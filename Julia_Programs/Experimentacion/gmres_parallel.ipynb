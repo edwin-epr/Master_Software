{
 "cells": [
  {
   "cell_type": "code",
   "execution_count": 78,
   "metadata": {},
   "outputs": [],
   "source": [
    "using LinearAlgebra\n",
    "using Plots\n",
    "using SparseArrays\n",
    "using CUDA, CUDA.CUBLAS, CUDA.CUSOLVER, CUDA.CUSPARSE\n",
    "using BenchmarkTools"
   ]
  },
  {
   "cell_type": "code",
   "execution_count": 2,
   "metadata": {},
   "outputs": [
    {
     "data": {
      "text/plain": [
       "vector_independent_term (generic function with 1 method)"
      ]
     },
     "metadata": {},
     "output_type": "display_data"
    }
   ],
   "source": [
    "# Functions \n",
    "# System Equation Linear Sparse\n",
    "function system_matrix_sparse(systemDimension::Integer, matrixA::AbstractMatrix)\n",
    "    vectorDiagonalMain = 3 * ones(systemDimension)\n",
    "    vectorDiagonalUpperLower = -1 * ones(systemDimension - 1)\n",
    "    matrixA .= convert(Matrix, Tridiagonal(vectorDiagonalUpperLower, vectorDiagonalMain, vectorDiagonalUpperLower))\n",
    "    for i = 1:systemDimension\n",
    "        if matrixA[i, systemDimension-i+1] == 0.0\n",
    "            matrixA[i, systemDimension-i+1] = 0.5\n",
    "        end\n",
    "    end\n",
    "    return nothing\n",
    "end\n",
    "# \n",
    "function vector_independent_term(systemDimension::Integer, vectorB::AbstractVector)\n",
    "    vectorB[1] = 2.5\n",
    "    vectorB[systemDimension] = 2.5\n",
    "    position::Integer = floor(systemDimension / 2)\n",
    "    for i = 2:systemDimension-1\n",
    "        if i == position || i == position + 1\n",
    "            vectorB[i] = 1.0\n",
    "        else\n",
    "            vectorB[i] = 1.5\n",
    "        end\n",
    "    end\n",
    "    return nothing\n",
    "end"
   ]
  },
  {
   "cell_type": "code",
   "execution_count": 60,
   "metadata": {},
   "outputs": [
    {
     "data": {
      "text/plain": [
       "\"SOR\""
      ]
     },
     "metadata": {},
     "output_type": "display_data"
    }
   ],
   "source": [
    "N = 2048\n",
    "tA = Matrix{Float64}(undef, N, N)\n",
    "b = Vector{Float64}(undef, N)\n",
    "x_0 = zeros(N);\n",
    "system_matrix_sparse(N, tA)\n",
    "vector_independent_term(N, b);\n",
    "A = sparse(tA)\n",
    "modulo = 8\n",
    "precondicionador = \"SOR\""
   ]
  },
  {
   "cell_type": "code",
   "execution_count": 22,
   "metadata": {},
   "outputs": [
    {
     "data": {
      "text/plain": [
       "reiniciarvariablesprecondicionado (generic function with 1 method)"
      ]
     },
     "metadata": {},
     "output_type": "display_data"
    }
   ],
   "source": [
    "function leastsquares(H, r)\n",
    "    r′ = zeros(size(H)[1])\n",
    "    r′[1] = norm(r)\n",
    "    x = H \\ r′\n",
    "end\n",
    "\n",
    "function reiniciarvariables(x, A, b)\n",
    "    k = 1\n",
    "    x₀ = x\n",
    "    r = b - A*x₀\n",
    "    H = zeros(2,1)\n",
    "    q = [r / norm(r)]\n",
    "    return x₀, r, q, k, H\n",
    "end\n",
    "\n",
    "function precondition(name, A, b)\n",
    "    if name == \"Jacobi\"\n",
    "        M_jacobi = Diagonal(A)\n",
    "        return [M_jacobi]\n",
    "\n",
    "    elseif name == \"Gauss-Seidel\"\n",
    "        D = Diagonal(A)\n",
    "        U = triu(A,1) \n",
    "        L = tril(A,-1)\n",
    "        M_gauss_seidel_1 = I+(L*inv(D))\n",
    "        M_gauss_seidel_2 = D+U\n",
    "        return [M_gauss_seidel_1, M_gauss_seidel_2]\n",
    "\n",
    "    elseif name == \"SOR\"\n",
    "        α = 1.8\n",
    "        D = Diagonal(A)\n",
    "        U = triu(A,1) \n",
    "        L = tril(A,-1)\n",
    "        M_sor_1 = I+(α*L*inv(D))\n",
    "        M_sor_2 = D+α*U\n",
    "        return [M_sor_1, M_sor_2]\n",
    "    end\n",
    "end\n",
    "\n",
    "function reiniciarvariablesprecondicionado(x, A, b, Ms::Vector)\n",
    "    k = 1\n",
    "    x₀ = x\n",
    "    H = zeros(2,1)\n",
    "\n",
    "    residual₀ = b - A*x₀\n",
    "    [residual₀ = M\\residual₀ for M ∈ Ms]\n",
    "    q = [residual₀ / norm(residual₀)]\n",
    "    return x₀, residual₀, q, k, H\n",
    "end"
   ]
  },
  {
   "cell_type": "code",
   "execution_count": 83,
   "metadata": {},
   "outputs": [
    {
     "data": {
      "text/plain": [
       "parallelgmresreiniciado (generic function with 4 methods)"
      ]
     },
     "metadata": {},
     "output_type": "display_data"
    }
   ],
   "source": [
    "function parallelgmresreiniciado(A::SparseMatrixCSC{Float64, Int64}, b::Vector{Float64}, ϵ = 1e-5)\n",
    "    x₀ = zeros(length(b))\n",
    "    residual₀ = b - A*x₀\n",
    "    q = [residual₀ / norm(residual₀)]\n",
    "    normres_gmresrei = []\n",
    "    \n",
    "    k = 1\n",
    "    x = x₀\n",
    "    H = zeros(2,1)\n",
    "    residual = residual₀\n",
    "    counter = 0\n",
    "    \n",
    "    d_A = CuSparseMatrixCSR{Float64}(A)\n",
    "    d_b = CuArray{Float64}(b)\n",
    "    d_x₀ = CuArray(x₀)\n",
    "    d_x = CuArray(x)    \n",
    "\n",
    "    while norm(residual) > ϵ\n",
    "        y = A*q[k]\n",
    "        for j ∈ 1:k\n",
    "            H[j,k] = q[j]' * y\n",
    "            y -= H[j,k]*q[j]\n",
    "        end\n",
    "        H[k+1,k] = norm(y)\n",
    "        push!(q, y/H[k+1,k])\n",
    "        H = vcat(H, zeros(1, size(H)[2]))\n",
    "        H = hcat(H, zeros(size(H)[1], 1))\n",
    "        k += 1\n",
    "       if k % modulo == 0 \n",
    "            c = leastsquares(H, residual₀)\n",
    "            Q = hcat(q...)\n",
    "\n",
    "            dQ = CuArray(Q)\n",
    "            dc = CuArray(c)\n",
    "            \n",
    "            d_x = dQ*dc + d_x₀\n",
    "            residual = Array(d_A*d_x - d_b)\n",
    "            x = Array(d_x)\n",
    "            x₀, residual₀, q, k, H = reiniciarvariables(x, A, b)\n",
    "            d_x₀ = CuArray(x₀)\n",
    "            counter+=1\n",
    "        end\n",
    "        normres_gmresrei = [normres_gmresrei;norm(residual₀)]\n",
    "    end\n",
    "    return normres_gmresrei \n",
    "end"
   ]
  },
  {
   "cell_type": "code",
   "execution_count": 84,
   "metadata": {},
   "outputs": [
    {
     "data": {
      "text/plain": [
       "14-element Vector{Any}:\n",
       " 67.9227502387823\n",
       " 67.9227502387823\n",
       " 67.9227502387823\n",
       " 67.9227502387823\n",
       " 67.9227502387823\n",
       " 67.9227502387823\n",
       "  0.0049500573704276156\n",
       "  0.0049500573704276156\n",
       "  0.0049500573704276156\n",
       "  0.0049500573704276156\n",
       "  0.0049500573704276156\n",
       "  0.0049500573704276156\n",
       "  0.0049500573704276156\n",
       "  3.2239240141621626e-6"
      ]
     },
     "metadata": {},
     "output_type": "display_data"
    }
   ],
   "source": [
    "parallelgmresreiniciado(A,b)"
   ]
  },
  {
   "cell_type": "code",
   "execution_count": 86,
   "metadata": {},
   "outputs": [
    {
     "data": {
      "text/plain": [
       "parallelgmresprecondicionadoreiniciado (generic function with 4 methods)"
      ]
     },
     "metadata": {},
     "output_type": "display_data"
    }
   ],
   "source": [
    "function parallelgmresprecondicionadoreiniciado(A::AbstractMatrix, b::Vector{Float64}, precondition_name::String, ϵ = 1e-5)\n",
    "    x₀ = zeros(length(b))\n",
    "    Ms = precondition(precondition_name, A, b)\n",
    "    residual₀ = b - A*x₀\n",
    "    [residual₀ = M\\residual₀ for M ∈ Ms]\n",
    "    q = [residual₀ / norm(residual₀)]\n",
    "    normres_gmresreipre = []\n",
    "\n",
    "    k = 1\n",
    "    x = x₀\n",
    "    H = zeros(2,1)\n",
    "    residual = residual₀\n",
    "    counter = 0\n",
    "\n",
    "    d_A = CuSparseMatrixCSR{Float64}(A)\n",
    "    d_b = CuArray{Float64}(b)\n",
    "    d_x₀ = CuArray(x₀)\n",
    "    d_x = CuArray(x)  \n",
    "\n",
    "    while norm(residual) > ϵ\n",
    "        ω = A*q[k]\n",
    "        [ω = M\\ω for M ∈ Ms]\n",
    "        for j ∈ 1:k\n",
    "            H[j,k] = q[j]' * ω\n",
    "            ω -= H[j,k]*q[j]\n",
    "        end\n",
    "        H[k+1,k] = norm(ω)\n",
    "        push!(q, ω/H[k+1,k])\n",
    "        H = vcat(H, zeros(1, size(H)[2]))\n",
    "        H = hcat(H, zeros(size(H)[1], 1))\n",
    "        k += 1\n",
    "        if k % modulo == 0\n",
    "            c = leastsquares(H, residual₀)\n",
    "            Q = hcat(q...)\n",
    "\n",
    "            dQ = CuArray(Q)\n",
    "            dc = CuArray(c)\n",
    "            \n",
    "            d_x = dQ*dc + d_x₀\n",
    "            residual = Array(d_A*d_x - d_b)\n",
    "            [residual = M\\residual for M ∈ Ms]\n",
    "            x = Array(d_x)\n",
    "            x₀, residual₀, q, k, H = reiniciarvariablesprecondicionado(x, A, b, Ms)\n",
    "            d_x₀ = CuArray(x₀)\n",
    "        end\n",
    "        normres_gmresreipre = [normres_gmresreipre;norm(residual₀)]\n",
    "        counter+=1\n",
    "    end\n",
    "    return normres_gmresreipre\n",
    "end"
   ]
  },
  {
   "cell_type": "code",
   "execution_count": 101,
   "metadata": {},
   "outputs": [
    {
     "data": {
      "text/plain": [
       "14-element Vector{Any}:\n",
       " 84.93436786819936\n",
       " 84.93436786819936\n",
       " 84.93436786819936\n",
       " 84.93436786819936\n",
       " 84.93436786819936\n",
       " 84.93436786819936\n",
       "  0.0021397895448919224\n",
       "  0.0021397895448919224\n",
       "  0.0021397895448919224\n",
       "  0.0021397895448919224\n",
       "  0.0021397895448919224\n",
       "  0.0021397895448919224\n",
       "  0.0021397895448919224\n",
       "  1.1325359608805502e-6"
      ]
     },
     "metadata": {},
     "output_type": "display_data"
    }
   ],
   "source": [
    "parallelgmresprecondicionadoreiniciado(A,b,precondicionador)"
   ]
  },
  {
   "cell_type": "code",
   "execution_count": 98,
   "metadata": {},
   "outputs": [
    {
     "data": {
      "text/plain": [
       "\"/home/edwin/Documents/WorkSpaces/pesadilla/convergenciaGMRES.png\""
      ]
     },
     "metadata": {},
     "output_type": "display_data"
    }
   ],
   "source": [
    "graphGmres = Plots.scatter(normres_gmres, markersize=4, label=\"Plano\", c=\"red\", leg=true)\n",
    "Plots.scatter!(normres_gmrespre, markersize=4, label=\"Precondicionado\", c=\"yellow\")\n",
    "Plots.scatter!(normres_gmresrei, markersize=4, label=\"Reiniciado\", c=\"blue\")\n",
    "Plots.scatter!(normres_gmresprerei, markersize=4, label=\"Precondicionado Reiniciado\", c=\"green\")\n",
    "plot!(xaxis=(\"iteraciones\") , yaxis = (\"residuales\", :log))\n",
    "plot!(title=\"Convergencia del Método del Residuo Mínimo |Generalizado\")\n",
    "savefig(graphGmres, \"convergenciaGMRES\")"
   ]
  },
  {
   "cell_type": "code",
   "execution_count": 102,
   "metadata": {},
   "outputs": [
    {
     "data": {
      "text/plain": [
       "\"/home/edwin/Documents/WorkSpaces/pesadilla/convergenciaGMRESPre.png\""
      ]
     },
     "metadata": {},
     "output_type": "display_data"
    }
   ],
   "source": [
    "normres_gmrespreJ = gmresprecondicionado(A,b,\"Jacobi\")\n",
    "normres_gmrespreS = gmresprecondicionado(A,b,\"SOR\")\n",
    "graphGmresPre = Plots.scatter(normres_gmrespreJ, markersize=4, label=\"Jacobi\", c=\"red\", leg=true)\n",
    "Plots.scatter!(normres_gmrespreS, markersize=4, label=\"SOR\", c=\"blue\")\n",
    "plot!(xaxis=(\"iteraciones\") , yaxis = (\"residuales\", :log))\n",
    "plot!(title=\"Convergencia del Método del Residuo Mínimo |Generalizado\")\n",
    "savefig(graphGmresPre, \"convergenciaGMRESPre\")"
   ]
  },
  {
   "cell_type": "code",
   "execution_count": 141,
   "metadata": {},
   "outputs": [],
   "source": [
    "N = 128\n",
    "tA = Matrix{Float64}(undef, N, N)\n",
    "b = Vector{Float64}(undef, N)\n",
    "x_0 = zeros(N);\n",
    "system_matrix_sparse(N, tA)\n",
    "vector_independent_term(N, b);\n",
    "A = sparse(tA);"
   ]
  },
  {
   "cell_type": "code",
   "execution_count": 146,
   "metadata": {},
   "outputs": [],
   "source": [
    "BenchmarkTools.DEFAULT_PARAMETERS.samples = 20\n",
    "Bgmres = @benchmark gmres(A,b)\n",
    "BgmresRei = @benchmark gmresreiniciado(A, b)\n",
    "BgmresPre = @benchmark gmresprecondicionado(A, b, \"Gauss-Seidel\");\n",
    "BgmresPreRei = @benchmark gmresprecondicionadoreiniciado(A, b, \"Gauss-Seidel\");"
   ]
  },
  {
   "cell_type": "code",
   "execution_count": 147,
   "metadata": {},
   "outputs": [
    {
     "data": {
      "text/plain": [
       "BenchmarkTools.Trial: 20 samples with 1 evaluation.\n",
       " Range \u001b[90m(\u001b[39m\u001b[36m\u001b[1mmin\u001b[22m\u001b[39m … \u001b[35mmax\u001b[39m\u001b[90m):  \u001b[39m\u001b[36m\u001b[1m121.905 μs\u001b[22m\u001b[39m … \u001b[35m239.562 μs\u001b[39m  \u001b[90m┊\u001b[39m GC \u001b[90m(\u001b[39mmin … max\u001b[90m): \u001b[39m0.00% … 0.00%\n",
       " Time  \u001b[90m(\u001b[39m\u001b[34m\u001b[1mmedian\u001b[22m\u001b[39m\u001b[90m):     \u001b[39m\u001b[34m\u001b[1m145.076 μs               \u001b[22m\u001b[39m\u001b[90m┊\u001b[39m GC \u001b[90m(\u001b[39mmedian\u001b[90m):    \u001b[39m0.00%\n",
       " Time  \u001b[90m(\u001b[39m\u001b[32m\u001b[1mmean\u001b[22m\u001b[39m ± \u001b[32mσ\u001b[39m\u001b[90m):   \u001b[39m\u001b[32m\u001b[1m159.926 μs\u001b[22m\u001b[39m ± \u001b[32m 38.712 μs\u001b[39m  \u001b[90m┊\u001b[39m GC \u001b[90m(\u001b[39mmean ± σ\u001b[90m):  \u001b[39m0.00% ± 0.00%\n",
       "\n",
       "  \u001b[39m█\u001b[39m \u001b[39m \u001b[39m \u001b[39m \u001b[39m \u001b[39m \u001b[39m \u001b[39m \u001b[39m \u001b[39m \u001b[34m \u001b[39m\u001b[39m \u001b[39m \u001b[39m \u001b[39m \u001b[39m \u001b[39m \u001b[39m \u001b[39m \u001b[32m \u001b[39m\u001b[39m \u001b[39m \u001b[39m \u001b[39m \u001b[39m \u001b[39m \u001b[39m \u001b[39m \u001b[39m \u001b[39m \u001b[39m \u001b[39m \u001b[39m \u001b[39m \u001b[39m \u001b[39m \u001b[39m \u001b[39m \u001b[39m \u001b[39m \u001b[39m \u001b[39m \u001b[39m \u001b[39m \u001b[39m \u001b[39m \u001b[39m \u001b[39m \u001b[39m \u001b[39m \u001b[39m \u001b[39m \u001b[39m \u001b[39m \u001b[39m \u001b[39m \u001b[39m \u001b[39m \u001b[39m \u001b[39m \u001b[39m \u001b[39m \n",
       "  \u001b[39m█\u001b[39m▅\u001b[39m▅\u001b[39m▁\u001b[39m▁\u001b[39m▁\u001b[39m▁\u001b[39m█\u001b[39m▁\u001b[39m▁\u001b[39m▁\u001b[34m▅\u001b[39m\u001b[39m▅\u001b[39m▁\u001b[39m▁\u001b[39m▁\u001b[39m▁\u001b[39m▁\u001b[39m▁\u001b[39m▁\u001b[32m▁\u001b[39m\u001b[39m▁\u001b[39m▅\u001b[39m▅\u001b[39m▅\u001b[39m▁\u001b[39m▁\u001b[39m▁\u001b[39m▁\u001b[39m▁\u001b[39m▁\u001b[39m▁\u001b[39m▁\u001b[39m▁\u001b[39m▁\u001b[39m▁\u001b[39m▁\u001b[39m▁\u001b[39m█\u001b[39m▁\u001b[39m▁\u001b[39m▁\u001b[39m▁\u001b[39m▅\u001b[39m▁\u001b[39m▅\u001b[39m▁\u001b[39m▁\u001b[39m▁\u001b[39m▁\u001b[39m▁\u001b[39m▁\u001b[39m▅\u001b[39m▁\u001b[39m▁\u001b[39m▁\u001b[39m▁\u001b[39m▁\u001b[39m▁\u001b[39m▁\u001b[39m▅\u001b[39m \u001b[39m▁\n",
       "  122 μs\u001b[90m           Histogram: frequency by time\u001b[39m          240 μs \u001b[0m\u001b[1m<\u001b[22m\n",
       "\n",
       " Memory estimate\u001b[90m: \u001b[39m\u001b[33m775.41 KiB\u001b[39m, allocs estimate\u001b[90m: \u001b[39m\u001b[33m900\u001b[39m."
      ]
     },
     "metadata": {},
     "output_type": "display_data"
    },
    {
     "data": {
      "text/plain": [
       "BenchmarkTools.Trial: 20 samples with 1 evaluation.\n",
       " Range \u001b[90m(\u001b[39m\u001b[36m\u001b[1mmin\u001b[22m\u001b[39m … \u001b[35mmax\u001b[39m\u001b[90m):  \u001b[39m\u001b[36m\u001b[1m68.979 μs\u001b[22m\u001b[39m … \u001b[35m160.227 μs\u001b[39m  \u001b[90m┊\u001b[39m GC \u001b[90m(\u001b[39mmin … max\u001b[90m): \u001b[39m0.00% … 0.00%\n",
       " Time  \u001b[90m(\u001b[39m\u001b[34m\u001b[1mmedian\u001b[22m\u001b[39m\u001b[90m):     \u001b[39m\u001b[34m\u001b[1m71.072 μs               \u001b[22m\u001b[39m\u001b[90m┊\u001b[39m GC \u001b[90m(\u001b[39mmedian\u001b[90m):    \u001b[39m0.00%\n",
       " Time  \u001b[90m(\u001b[39m\u001b[32m\u001b[1mmean\u001b[22m\u001b[39m ± \u001b[32mσ\u001b[39m\u001b[90m):   \u001b[39m\u001b[32m\u001b[1m77.043 μs\u001b[22m\u001b[39m ± \u001b[32m 20.270 μs\u001b[39m  \u001b[90m┊\u001b[39m GC \u001b[90m(\u001b[39mmean ± σ\u001b[90m):  \u001b[39m0.00% ± 0.00%\n",
       "\n",
       "  \u001b[39m█\u001b[34m▁\u001b[39m\u001b[39m \u001b[39m \u001b[39m \u001b[32m \u001b[39m\u001b[39m \u001b[39m \u001b[39m \u001b[39m \u001b[39m \u001b[39m \u001b[39m \u001b[39m \u001b[39m \u001b[39m \u001b[39m \u001b[39m \u001b[39m \u001b[39m \u001b[39m \u001b[39m \u001b[39m \u001b[39m \u001b[39m \u001b[39m \u001b[39m \u001b[39m \u001b[39m \u001b[39m \u001b[39m \u001b[39m \u001b[39m \u001b[39m \u001b[39m \u001b[39m \u001b[39m \u001b[39m \u001b[39m \u001b[39m \u001b[39m \u001b[39m \u001b[39m \u001b[39m \u001b[39m \u001b[39m \u001b[39m \u001b[39m \u001b[39m \u001b[39m \u001b[39m \u001b[39m \u001b[39m \u001b[39m \u001b[39m \u001b[39m \u001b[39m \u001b[39m \u001b[39m \u001b[39m \u001b[39m \u001b[39m \n",
       "  \u001b[39m█\u001b[34m█\u001b[39m\u001b[39m▇\u001b[39m▆\u001b[39m▁\u001b[32m▁\u001b[39m\u001b[39m▄\u001b[39m▁\u001b[39m▁\u001b[39m▁\u001b[39m▁\u001b[39m▁\u001b[39m▁\u001b[39m▁\u001b[39m▁\u001b[39m▄\u001b[39m▁\u001b[39m▁\u001b[39m▁\u001b[39m▁\u001b[39m▁\u001b[39m▁\u001b[39m▁\u001b[39m▁\u001b[39m▁\u001b[39m▁\u001b[39m▁\u001b[39m▁\u001b[39m▁\u001b[39m▁\u001b[39m▁\u001b[39m▁\u001b[39m▁\u001b[39m▁\u001b[39m▁\u001b[39m▁\u001b[39m▁\u001b[39m▁\u001b[39m▁\u001b[39m▁\u001b[39m▁\u001b[39m▁\u001b[39m▁\u001b[39m▁\u001b[39m▁\u001b[39m▁\u001b[39m▁\u001b[39m▁\u001b[39m▁\u001b[39m▁\u001b[39m▁\u001b[39m▁\u001b[39m▁\u001b[39m▁\u001b[39m▁\u001b[39m▁\u001b[39m▁\u001b[39m▁\u001b[39m▁\u001b[39m▄\u001b[39m \u001b[39m▁\n",
       "  69 μs\u001b[90m           Histogram: frequency by time\u001b[39m          160 μs \u001b[0m\u001b[1m<\u001b[22m\n",
       "\n",
       " Memory estimate\u001b[90m: \u001b[39m\u001b[33m476.66 KiB\u001b[39m, allocs estimate\u001b[90m: \u001b[39m\u001b[33m697\u001b[39m."
      ]
     },
     "metadata": {},
     "output_type": "display_data"
    },
    {
     "data": {
      "text/plain": [
       "BenchmarkTools.Trial: 20 samples with 1 evaluation.\n",
       " Range \u001b[90m(\u001b[39m\u001b[36m\u001b[1mmin\u001b[22m\u001b[39m … \u001b[35mmax\u001b[39m\u001b[90m):  \u001b[39m\u001b[36m\u001b[1m122.449 μs\u001b[22m\u001b[39m … \u001b[35m284.284 μs\u001b[39m  \u001b[90m┊\u001b[39m GC \u001b[90m(\u001b[39mmin … max\u001b[90m): \u001b[39m0.00% … 0.00%\n",
       " Time  \u001b[90m(\u001b[39m\u001b[34m\u001b[1mmedian\u001b[22m\u001b[39m\u001b[90m):     \u001b[39m\u001b[34m\u001b[1m125.679 μs               \u001b[22m\u001b[39m\u001b[90m┊\u001b[39m GC \u001b[90m(\u001b[39mmedian\u001b[90m):    \u001b[39m0.00%\n",
       " Time  \u001b[90m(\u001b[39m\u001b[32m\u001b[1mmean\u001b[22m\u001b[39m ± \u001b[32mσ\u001b[39m\u001b[90m):   \u001b[39m\u001b[32m\u001b[1m134.229 μs\u001b[22m\u001b[39m ± \u001b[32m 35.558 μs\u001b[39m  \u001b[90m┊\u001b[39m GC \u001b[90m(\u001b[39mmean ± σ\u001b[90m):  \u001b[39m0.00% ± 0.00%\n",
       "\n",
       "  \u001b[39m█\u001b[34m▄\u001b[39m\u001b[39m▁\u001b[39m \u001b[32m \u001b[39m\u001b[39m \u001b[39m \u001b[39m \u001b[39m \u001b[39m \u001b[39m \u001b[39m \u001b[39m \u001b[39m \u001b[39m \u001b[39m \u001b[39m \u001b[39m \u001b[39m \u001b[39m \u001b[39m \u001b[39m \u001b[39m \u001b[39m \u001b[39m \u001b[39m \u001b[39m \u001b[39m \u001b[39m \u001b[39m \u001b[39m \u001b[39m \u001b[39m \u001b[39m \u001b[39m \u001b[39m \u001b[39m \u001b[39m \u001b[39m \u001b[39m \u001b[39m \u001b[39m \u001b[39m \u001b[39m \u001b[39m \u001b[39m \u001b[39m \u001b[39m \u001b[39m \u001b[39m \u001b[39m \u001b[39m \u001b[39m \u001b[39m \u001b[39m \u001b[39m \u001b[39m \u001b[39m \u001b[39m \u001b[39m \u001b[39m \u001b[39m \u001b[39m \n",
       "  \u001b[39m█\u001b[34m█\u001b[39m\u001b[39m█\u001b[39m▁\u001b[32m▁\u001b[39m\u001b[39m▁\u001b[39m▁\u001b[39m▄\u001b[39m▁\u001b[39m▁\u001b[39m▁\u001b[39m▁\u001b[39m▁\u001b[39m▁\u001b[39m▁\u001b[39m▁\u001b[39m▁\u001b[39m▁\u001b[39m▁\u001b[39m▁\u001b[39m▁\u001b[39m▁\u001b[39m▁\u001b[39m▁\u001b[39m▁\u001b[39m▁\u001b[39m▁\u001b[39m▁\u001b[39m▁\u001b[39m▁\u001b[39m▁\u001b[39m▁\u001b[39m▁\u001b[39m▁\u001b[39m▁\u001b[39m▁\u001b[39m▁\u001b[39m▁\u001b[39m▁\u001b[39m▁\u001b[39m▁\u001b[39m▁\u001b[39m▁\u001b[39m▁\u001b[39m▁\u001b[39m▁\u001b[39m▁\u001b[39m▁\u001b[39m▁\u001b[39m▁\u001b[39m▁\u001b[39m▁\u001b[39m▁\u001b[39m▁\u001b[39m▁\u001b[39m▁\u001b[39m▁\u001b[39m▁\u001b[39m▁\u001b[39m▁\u001b[39m▄\u001b[39m \u001b[39m▁\n",
       "  122 μs\u001b[90m           Histogram: frequency by time\u001b[39m          284 μs \u001b[0m\u001b[1m<\u001b[22m\n",
       "\n",
       " Memory estimate\u001b[90m: \u001b[39m\u001b[33m320.23 KiB\u001b[39m, allocs estimate\u001b[90m: \u001b[39m\u001b[33m665\u001b[39m."
      ]
     },
     "metadata": {},
     "output_type": "display_data"
    },
    {
     "data": {
      "text/plain": [
       "BenchmarkTools.Trial: 20 samples with 1 evaluation.\n",
       " Range \u001b[90m(\u001b[39m\u001b[36m\u001b[1mmin\u001b[22m\u001b[39m … \u001b[35mmax\u001b[39m\u001b[90m):  \u001b[39m\u001b[36m\u001b[1m111.263 μs\u001b[22m\u001b[39m … \u001b[35m268.781 μs\u001b[39m  \u001b[90m┊\u001b[39m GC \u001b[90m(\u001b[39mmin … max\u001b[90m): \u001b[39m0.00% … 0.00%\n",
       " Time  \u001b[90m(\u001b[39m\u001b[34m\u001b[1mmedian\u001b[22m\u001b[39m\u001b[90m):     \u001b[39m\u001b[34m\u001b[1m113.576 μs               \u001b[22m\u001b[39m\u001b[90m┊\u001b[39m GC \u001b[90m(\u001b[39mmedian\u001b[90m):    \u001b[39m0.00%\n",
       " Time  \u001b[90m(\u001b[39m\u001b[32m\u001b[1mmean\u001b[22m\u001b[39m ± \u001b[32mσ\u001b[39m\u001b[90m):   \u001b[39m\u001b[32m\u001b[1m123.312 μs\u001b[22m\u001b[39m ± \u001b[32m 34.927 μs\u001b[39m  \u001b[90m┊\u001b[39m GC \u001b[90m(\u001b[39mmean ± σ\u001b[90m):  \u001b[39m0.00% ± 0.00%\n",
       "\n",
       "  \u001b[39m█\u001b[34m▁\u001b[39m\u001b[39m \u001b[39m \u001b[39m \u001b[32m \u001b[39m\u001b[39m \u001b[39m \u001b[39m \u001b[39m \u001b[39m \u001b[39m \u001b[39m \u001b[39m \u001b[39m \u001b[39m \u001b[39m \u001b[39m \u001b[39m \u001b[39m \u001b[39m \u001b[39m \u001b[39m \u001b[39m \u001b[39m \u001b[39m \u001b[39m \u001b[39m \u001b[39m \u001b[39m \u001b[39m \u001b[39m \u001b[39m \u001b[39m \u001b[39m \u001b[39m \u001b[39m \u001b[39m \u001b[39m \u001b[39m \u001b[39m \u001b[39m \u001b[39m \u001b[39m \u001b[39m \u001b[39m \u001b[39m \u001b[39m \u001b[39m \u001b[39m \u001b[39m \u001b[39m \u001b[39m \u001b[39m \u001b[39m \u001b[39m \u001b[39m \u001b[39m \u001b[39m \u001b[39m \u001b[39m \u001b[39m \u001b[39m \n",
       "  \u001b[39m█\u001b[34m█\u001b[39m\u001b[39m▅\u001b[39m▁\u001b[39m▃\u001b[32m▁\u001b[39m\u001b[39m▁\u001b[39m▁\u001b[39m▁\u001b[39m▁\u001b[39m▁\u001b[39m▁\u001b[39m▃\u001b[39m▁\u001b[39m▁\u001b[39m▁\u001b[39m▁\u001b[39m▁\u001b[39m▁\u001b[39m▁\u001b[39m▁\u001b[39m▁\u001b[39m▁\u001b[39m▁\u001b[39m▁\u001b[39m▁\u001b[39m▁\u001b[39m▁\u001b[39m▁\u001b[39m▁\u001b[39m▁\u001b[39m▁\u001b[39m▁\u001b[39m▁\u001b[39m▁\u001b[39m▁\u001b[39m▁\u001b[39m▁\u001b[39m▁\u001b[39m▁\u001b[39m▁\u001b[39m▁\u001b[39m▁\u001b[39m▁\u001b[39m▁\u001b[39m▁\u001b[39m▁\u001b[39m▁\u001b[39m▁\u001b[39m▁\u001b[39m▁\u001b[39m▁\u001b[39m▁\u001b[39m▁\u001b[39m▁\u001b[39m▁\u001b[39m▁\u001b[39m▁\u001b[39m▁\u001b[39m▁\u001b[39m▃\u001b[39m \u001b[39m▁\n",
       "  111 μs\u001b[90m           Histogram: frequency by time\u001b[39m          269 μs \u001b[0m\u001b[1m<\u001b[22m\n",
       "\n",
       " Memory estimate\u001b[90m: \u001b[39m\u001b[33m308.14 KiB\u001b[39m, allocs estimate\u001b[90m: \u001b[39m\u001b[33m506\u001b[39m."
      ]
     },
     "metadata": {},
     "output_type": "display_data"
    }
   ],
   "source": [
    "display(Bgmres)\n",
    "display(BgmresRei)\n",
    "display(BgmresPre)\n",
    "display(BgmresPreRei)"
   ]
  }
 ],
 "metadata": {
  "kernelspec": {
   "display_name": "Julia 1.10.3",
   "language": "julia",
   "name": "julia-1.10"
  },
  "language_info": {
   "file_extension": ".jl",
   "mimetype": "application/julia",
   "name": "julia",
   "version": "1.10.3"
  }
 },
 "nbformat": 4,
 "nbformat_minor": 2
}
