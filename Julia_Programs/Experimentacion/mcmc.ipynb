{
 "cells": [
  {
   "cell_type": "code",
   "execution_count": 11,
   "metadata": {},
   "outputs": [],
   "source": [
    "using LinearAlgebra\n",
    "using Distributed\n",
    "using SharedArrays\n",
    "using BenchmarkTools\n",
    "using Printf"
   ]
  },
  {
   "cell_type": "code",
   "execution_count": 3,
   "metadata": {},
   "outputs": [
    {
     "data": {
      "text/plain": [
       "vector_independent_term (generic function with 1 method)"
      ]
     },
     "metadata": {},
     "output_type": "display_data"
    }
   ],
   "source": [
    "# Functions \n",
    "# System Equation Linear Sparse\n",
    "function system_matrix_sparse(systemDimension::Integer, matrixA::AbstractMatrix)\n",
    "    vectorDiagonalMain = 3 * ones(systemDimension)\n",
    "    vectorDiagonalUpperLower = -1 * ones(systemDimension - 1)\n",
    "    matrixA .= convert(Matrix, Tridiagonal(vectorDiagonalUpperLower, vectorDiagonalMain, vectorDiagonalUpperLower))\n",
    "    for i = 1:systemDimension\n",
    "        if matrixA[i, systemDimension-i+1] == 0.0\n",
    "            matrixA[i, systemDimension-i+1] = 0.5\n",
    "        end\n",
    "    end\n",
    "    return nothing\n",
    "end\n",
    "# \n",
    "function vector_independent_term(systemDimension::Integer, vectorB::AbstractVector)\n",
    "    vectorB[1] = 2.5\n",
    "    vectorB[systemDimension] = 2.5\n",
    "    position::Integer = floor(systemDimension / 2)\n",
    "    for i = 2:systemDimension-1\n",
    "        if i == position || i == position + 1\n",
    "            vectorB[i] = 1.0\n",
    "        else\n",
    "            vectorB[i] = 1.5\n",
    "        end\n",
    "    end\n",
    "    return nothing\n",
    "end"
   ]
  },
  {
   "cell_type": "code",
   "execution_count": 4,
   "metadata": {},
   "outputs": [],
   "source": [
    "n = 20\n",
    "A = Matrix{Float64}(undef, n, n)\n",
    "b = Vector{Float64}(undef, n)\n",
    "system_matrix_sparse(n,A)\n",
    "vector_independent_term(n, b)\n",
    "ϵ = 0.01\n",
    "δ = 0.001;"
   ]
  },
  {
   "cell_type": "code",
   "execution_count": 5,
   "metadata": {},
   "outputs": [],
   "source": [
    "M = diagm(0 => diag(A));\n",
    "N = M-A;\n",
    "T = inv(M) * N;\n",
    "f = inv(M) * b;\n",
    "nT, mT = size(T);\n",
    "Nc = floor((0.6745/δ)^2*((norm(f)^2)/(1-norm(T))^2)) + 1;"
   ]
  },
  {
   "cell_type": "code",
   "execution_count": 6,
   "metadata": {},
   "outputs": [
    {
     "data": {
      "text/plain": [
       "mcmc_acc_par_ta (generic function with 1 method)"
      ]
     },
     "metadata": {},
     "output_type": "display_data"
    }
   ],
   "source": [
    "#  Monte Carlo Markov Chain Method \n",
    "\n",
    "function mcmc_acc_par_ta(ϵ, δ,A::Matrix{Float64}, b::Vector{Float64})\n",
    "    M = diagm(0 => diag(A))\n",
    "    N = M-A\n",
    "    T = inv(M) * N\n",
    "    f = inv(M) * b\n",
    "    mT, nT = size(T)\n",
    "    display(size(T))\n",
    "    S = fill(0, nT)\n",
    "    P = fill(0., mT, mT) \n",
    "    [S[i] += 1 for i in 1:nT, j in 1:mT if T[i,j] != 0]\n",
    "    [P[i,j]= 1/S[i] for i in 1:mT, j in 1:mT if T[i,j] != 0 ]\n",
    "    Pa = [accumulate(+, P[i, 1:mT]) for i in 1:mT]\n",
    "    #Pi = [1/mT for i in 1:mT]\n",
    "    Nc = floor((0.6745/δ)^2*((norm(f)^2)/(1-norm(T))^2)) + 1\n",
    "    \n",
    "    Xs = fill(0., mT)\n",
    "    for i in 1:mT\n",
    "        W_0 = 1.0\n",
    "        for s in 1:Nc\n",
    "            W = W_0; point = i; X = W_0 * f[i]\n",
    "            while abs(W) >= ϵ\n",
    "                nextpoint  = 1\n",
    "                u = rand()\n",
    "                while u >= Pa[point][nextpoint]\n",
    "                    nextpoint = nextpoint + 1\n",
    "                end\n",
    "                if T[point, nextpoint] != 0 \n",
    "                    W_new = W *(T[point, nextpoint]/P[point, nextpoint])\n",
    "                    X = X + W_new * f[nextpoint]\n",
    "                end\n",
    "                point = nextpoint\n",
    "                W = W_new\n",
    "            end\n",
    "        Xs[i] += X\n",
    "        end\n",
    "    end\n",
    "    Xs = Xs/Nc;\n",
    "end"
   ]
  },
  {
   "cell_type": "code",
   "execution_count": 7,
   "metadata": {},
   "outputs": [
    {
     "data": {
      "text/plain": [
       "(20, 20)"
      ]
     },
     "metadata": {},
     "output_type": "display_data"
    },
    {
     "data": {
      "text/plain": [
       "20-element Vector{Float64}:\n",
       " 1.0003082972156194\n",
       " 1.001114481137491\n",
       " 1.0003512505697734\n",
       " 1.0018870317889415\n",
       " 1.0006121339836902\n",
       " 1.0028788548507088\n",
       " 0.9996181310478135\n",
       " 1.0032554248943892\n",
       " 1.0007759918980246\n",
       " 0.9995908782225991\n",
       " 1.0002861925127793\n",
       " 1.0003320198233896\n",
       " 1.0008037625588706\n",
       " 1.0030174600146566\n",
       " 1.0019091760187655\n",
       " 1.0012150375889528\n",
       " 1.0011052822106843\n",
       " 1.001034100836993\n",
       " 1.0021221402949594\n",
       " 0.999969096328459"
      ]
     },
     "metadata": {},
     "output_type": "display_data"
    }
   ],
   "source": [
    "Xs = mcmc_acc_par_ta(ϵ, δ, A, b)\n"
   ]
  },
  {
   "cell_type": "code",
   "execution_count": 8,
   "metadata": {},
   "outputs": [
    {
     "data": {
      "text/plain": [
       "0.01905187177883472"
      ]
     },
     "metadata": {},
     "output_type": "display_data"
    }
   ],
   "source": [
    "error = norm(b-A*Xs)\n"
   ]
  },
  {
   "cell_type": "code",
   "execution_count": 9,
   "metadata": {},
   "outputs": [
    {
     "name": "stdout",
     "output_type": "stream",
     "text": [
      "0.013776, 13.115165, 1855098\n"
     ]
    }
   ],
   "source": [
    "BenchmarkTools.DEFAULT_PARAMETERS.samples = 3\n",
    "Xs = mcmc_acc_par_ta(ϵ, δ, A, b);\n",
    "error = norm(b-A*Xs)\n",
    "time = @benchmark mcmc_acc_par_ta($ϵ, $δ, $A, $b)\n",
    "elapsed_time = mean(time.times)/1000000000\n",
    "#println(error, \", \", elapsed_time)\n",
    "@printf(\"%.6f, %.6f, %d\\n\", error, elapsed_time, Nc) "
   ]
  },
  {
   "cell_type": "code",
   "execution_count": 25,
   "metadata": {},
   "outputs": [],
   "source": [
    "# Add worker processes\n",
    "addprocs(4)  # Adjust the number of processes as needed\n",
    "\n",
    "@everywhere begin\n",
    "    using Random\n",
    "    using LinearAlgebra\n",
    "    using SharedArrays\n",
    "end"
   ]
  },
  {
   "cell_type": "code",
   "execution_count": 29,
   "metadata": {},
   "outputs": [
    {
     "name": "stderr",
     "output_type": "stream",
     "text": [
      "\u001b[91m\u001b[1mUnhandled Task \u001b[22m\u001b[39m\u001b[91m\u001b[1mERROR: \u001b[22m\u001b[39mOn worker 10:\n",
      "BoundsError: attempt to access 20-element Vector{Float64} at index [21]\n",
      "Stacktrace:\n",
      "  [1] \u001b[0m\u001b[1mgetindex\u001b[22m\n",
      "\u001b[90m    @\u001b[39m \u001b[90m./\u001b[39m\u001b[90m\u001b[4messentials.jl:13\u001b[24m\u001b[39m\u001b[90m [inlined]\u001b[39m\n",
      "  [2] \u001b[0m\u001b[1mmcmc_iteration!\u001b[22m\n",
      "\u001b[90m    @\u001b[39m \u001b[90m~/Documentos/WorkSpaces/pesadilla/\u001b[39m\u001b[90m\u001b[4mmcmc.ipynb:27\u001b[24m\u001b[39m\n",
      "  [3] \u001b[0m\u001b[1mmacro expansion\u001b[22m\n",
      "\u001b[90m    @\u001b[39m \u001b[90m~/Documentos/WorkSpaces/pesadilla/\u001b[39m\u001b[90m\u001b[4mmcmc.ipynb:48\u001b[24m\u001b[39m\u001b[90m [inlined]\u001b[39m\n",
      "  [4] \u001b[0m\u001b[1m#53\u001b[22m\n",
      "\u001b[90m    @\u001b[39m \u001b[90m~/.julia/juliaup/julia-1.10.2+0.x64.linux.gnu/share/julia/stdlib/v1.10/Distributed/src/\u001b[39m\u001b[90m\u001b[4mmacros.jl:303\u001b[24m\u001b[39m\n",
      "  [5] \u001b[0m\u001b[1m#178\u001b[22m\n",
      "\u001b[90m    @\u001b[39m \u001b[90m~/.julia/juliaup/julia-1.10.2+0.x64.linux.gnu/share/julia/stdlib/v1.10/Distributed/src/\u001b[39m\u001b[90m\u001b[4mmacros.jl:83\u001b[24m\u001b[39m\n",
      "  [6] \u001b[0m\u001b[1m#invokelatest#2\u001b[22m\n",
      "\u001b[90m    @\u001b[39m \u001b[90m./\u001b[39m\u001b[90m\u001b[4messentials.jl:892\u001b[24m\u001b[39m\u001b[90m [inlined]\u001b[39m\n",
      "  [7] \u001b[0m\u001b[1minvokelatest\u001b[22m\n",
      "\u001b[90m    @\u001b[39m \u001b[90m./\u001b[39m\u001b[90m\u001b[4messentials.jl:889\u001b[24m\u001b[39m\n",
      "  [8] \u001b[0m\u001b[1m#107\u001b[22m\n",
      "\u001b[90m    @\u001b[39m \u001b[90m~/.julia/juliaup/julia-1.10.2+0.x64.linux.gnu/share/julia/stdlib/v1.10/Distributed/src/\u001b[39m\u001b[90m\u001b[4mprocess_messages.jl:283\u001b[24m\u001b[39m\n",
      "  [9] \u001b[0m\u001b[1mrun_work_thunk\u001b[22m\n",
      "\u001b[90m    @\u001b[39m \u001b[90m~/.julia/juliaup/julia-1.10.2+0.x64.linux.gnu/share/julia/stdlib/v1.10/Distributed/src/\u001b[39m\u001b[90m\u001b[4mprocess_messages.jl:70\u001b[24m\u001b[39m\n",
      " [10] \u001b[0m\u001b[1mrun_work_thunk\u001b[22m\n",
      "\u001b[90m    @\u001b[39m \u001b[90m~/.julia/juliaup/julia-1.10.2+0.x64.linux.gnu/share/julia/stdlib/v1.10/Distributed/src/\u001b[39m\u001b[90m\u001b[4mprocess_messages.jl:79\u001b[24m\u001b[39m\n",
      " [11] \u001b[0m\u001b[1m#100\u001b[22m\n",
      "\u001b[90m    @\u001b[39m \u001b[90m~/.julia/juliaup/julia-1.10.2+0.x64.linux.gnu/share/julia/stdlib/v1.10/Distributed/src/\u001b[39m\u001b[90m\u001b[4mprocess_messages.jl:88\u001b[24m\u001b[39m\n",
      "\n",
      "...and 35 more exceptions.\n",
      "\n",
      "Stacktrace:\n",
      " [1] \u001b[0m\u001b[1msync_end\u001b[22m\u001b[0m\u001b[1m(\u001b[22m\u001b[90mc\u001b[39m::\u001b[0mChannel\u001b[90m{Any}\u001b[39m\u001b[0m\u001b[1m)\u001b[22m\n",
      "\u001b[90m   @\u001b[39m \u001b[90mBase\u001b[39m \u001b[90m./\u001b[39m\u001b[90m\u001b[4mtask.jl:448\u001b[24m\u001b[39m\n",
      " [2] \u001b[0m\u001b[1mmacro expansion\u001b[22m\n",
      "\u001b[90m   @\u001b[39m \u001b[90m./\u001b[39m\u001b[90m\u001b[4mtask.jl:480\u001b[24m\u001b[39m\u001b[90m [inlined]\u001b[39m\n",
      " [3] \u001b[0m\u001b[1m(::Distributed.var\"#177#179\"{var\"#53#54\"{Float64, Float64, Matrix{Float64}, Vector{Float64}, SharedVector{Float64}}, UnitRange{Int64}})\u001b[22m\u001b[0m\u001b[1m(\u001b[22m\u001b[0m\u001b[1m)\u001b[22m\n",
      "\u001b[90m   @\u001b[39m \u001b[36mDistributed\u001b[39m \u001b[90m~/.julia/juliaup/julia-1.10.2+0.x64.linux.gnu/share/julia/stdlib/v1.10/Distributed/src/\u001b[39m\u001b[90m\u001b[4mmacros.jl:278\u001b[24m\u001b[39m\n",
      "\u001b[91m\u001b[1mUnhandled Task \u001b[22m\u001b[39m\u001b[91m\u001b[1mERROR: \u001b[22m\u001b[39mOn worker 10:\n",
      "BoundsError: attempt to access 20-element Vector{Float64} at index [21]\n",
      "Stacktrace:\n",
      "  [1] \u001b[0m\u001b[1mgetindex\u001b[22m\n",
      "\u001b[90m    @\u001b[39m \u001b[90m./\u001b[39m\u001b[90m\u001b[4messentials.jl:13\u001b[24m\u001b[39m\u001b[90m [inlined]\u001b[39m\n",
      "  [2] \u001b[0m\u001b[1mmcmc_iteration!\u001b[22m\n",
      "\u001b[90m    @\u001b[39m \u001b[90m~/Documentos/WorkSpaces/pesadilla/\u001b[39m\u001b[90m\u001b[4mmcmc.ipynb:27\u001b[24m\u001b[39m\n",
      "  [3] \u001b[0m\u001b[1mmacro expansion\u001b[22m\n",
      "\u001b[90m    @\u001b[39m \u001b[90m~/Documentos/WorkSpaces/pesadilla/\u001b[39m\u001b[90m\u001b[4mmcmc.ipynb:48\u001b[24m\u001b[39m\u001b[90m [inlined]\u001b[39m\n",
      "  [4] \u001b[0m\u001b[1m#53\u001b[22m\n",
      "\u001b[90m    @\u001b[39m \u001b[90m~/.julia/juliaup/julia-1.10.2+0.x64.linux.gnu/share/julia/stdlib/v1.10/Distributed/src/\u001b[39m\u001b[90m\u001b[4mmacros.jl:303\u001b[24m\u001b[39m\n",
      "  [5] \u001b[0m\u001b[1m#178\u001b[22m\n",
      "\u001b[90m    @\u001b[39m \u001b[90m~/.julia/juliaup/julia-1.10.2+0.x64.linux.gnu/share/julia/stdlib/v1.10/Distributed/src/\u001b[39m\u001b[90m\u001b[4mmacros.jl:83\u001b[24m\u001b[39m\n",
      "  [6] \u001b[0m\u001b[1m#invokelatest#2\u001b[22m\n",
      "\u001b[90m    @\u001b[39m \u001b[90m./\u001b[39m\u001b[90m\u001b[4messentials.jl:892\u001b[24m\u001b[39m\u001b[90m [inlined]\u001b[39m\n",
      "  [7] \u001b[0m\u001b[1minvokelatest\u001b[22m\n",
      "\u001b[90m    @\u001b[39m \u001b[90m./\u001b[39m\u001b[90m\u001b[4messentials.jl:889\u001b[24m\u001b[39m\n",
      "  [8] \u001b[0m\u001b[1m#107\u001b[22m\n",
      "\u001b[90m    @\u001b[39m \u001b[90m~/.julia/juliaup/julia-1.10.2+0.x64.linux.gnu/share/julia/stdlib/v1.10/Distributed/src/\u001b[39m\u001b[90m\u001b[4mprocess_messages.jl:283\u001b[24m\u001b[39m\n",
      "  [9] \u001b[0m\u001b[1mrun_work_thunk\u001b[22m\n",
      "\u001b[90m    @\u001b[39m \u001b[90m~/.julia/juliaup/julia-1.10.2+0.x64.linux.gnu/share/julia/stdlib/v1.10/Distributed/src/\u001b[39m\u001b[90m\u001b[4mprocess_messages.jl:70\u001b[24m\u001b[39m\n",
      " [10] \u001b[0m\u001b[1mrun_work_thunk\u001b[22m\n",
      "\u001b[90m    @\u001b[39m \u001b[90m~/.julia/juliaup/julia-1.10.2+0.x64.linux.gnu/share/julia/stdlib/v1.10/Distributed/src/\u001b[39m\u001b[90m\u001b[4mprocess_messages.jl:79\u001b[24m\u001b[39m\n",
      " [11] \u001b[0m\u001b[1m#100\u001b[22m\n",
      "\u001b[90m    @\u001b[39m \u001b[90m~/.julia/juliaup/julia-1.10.2+0.x64.linux.gnu/share/julia/stdlib/v1.10/Distributed/src/\u001b[39m\u001b[90m\u001b[4mprocess_messages.jl:88\u001b[24m\u001b[39m\n",
      "\n",
      "...and 35 more exceptions.\n",
      "\n",
      "Stacktrace:\n",
      " [1] \u001b[0m\u001b[1msync_end\u001b[22m\u001b[0m\u001b[1m(\u001b[22m\u001b[90mc\u001b[39m::\u001b[0mChannel\u001b[90m{Any}\u001b[39m\u001b[0m\u001b[1m)\u001b[22m\n",
      "\u001b[90m   @\u001b[39m \u001b[90mBase\u001b[39m \u001b[90m./\u001b[39m\u001b[90m\u001b[4mtask.jl:448\u001b[24m\u001b[39m\n",
      " [2] \u001b[0m\u001b[1mmacro expansion\u001b[22m\n",
      "\u001b[90m   @\u001b[39m \u001b[90m./\u001b[39m\u001b[90m\u001b[4mtask.jl:480\u001b[24m\u001b[39m\u001b[90m [inlined]\u001b[39m\n",
      " [3] \u001b[0m\u001b[1m(::Distributed.var\"#177#179\"{var\"#53#54\"{Float64, Float64, Matrix{Float64}, Vector{Float64}, SharedVector{Float64}}, UnitRange{Int64}})\u001b[22m\u001b[0m\u001b[1m(\u001b[22m\u001b[0m\u001b[1m)\u001b[22m\n",
      "\u001b[90m   @\u001b[39m \u001b[36mDistributed\u001b[39m \u001b[90m~/.julia/juliaup/julia-1.10.2+0.x64.linux.gnu/share/julia/stdlib/v1.10/Distributed/src/\u001b[39m\u001b[90m\u001b[4mmacros.jl:278\u001b[24m\u001b[39m\n"
     ]
    },
    {
     "data": {
      "text/plain": [
       "parallel_mcmc (generic function with 1 method)"
      ]
     },
     "metadata": {},
     "output_type": "display_data"
    }
   ],
   "source": [
    "@everywhere function mcmc_iteration!(Xs, ϵ, δ, A, b)\n",
    "    M = diagm(0 => diag(A))\n",
    "    N = M - A\n",
    "    T = inv(M) * N\n",
    "    f = inv(M) * b\n",
    "    mT, nT = size(T)\n",
    "    S = zeros(Int, nT)\n",
    "    P = zeros(Float64, mT, mT)\n",
    "    for i in 1:mT, j in 1:mT\n",
    "        if T[i, j] != 0\n",
    "            S[j] += 1\n",
    "            P[i, j] = 1 / S[j]\n",
    "        end\n",
    "    end\n",
    "    Pa = [cumsum(P[i, :]) for i in 1:mT]\n",
    "    Nc = Int(floor((0.6745 / δ)^2 * ((norm(f)^2) / (1 - norm(T))^2)) + 1)\n",
    "\n",
    "    local_Xs = zeros(Float64, mT)\n",
    "    for i in 1:mT\n",
    "        for s in 1:Nc\n",
    "            W = 1.0\n",
    "            point = i\n",
    "            X = W * f[i]\n",
    "            while abs(W) >= ϵ\n",
    "                nextpoint = 1\n",
    "                u = rand()\n",
    "                while u >= Pa[point][nextpoint]\n",
    "                    nextpoint += 1\n",
    "                end\n",
    "                if T[point, nextpoint] != 0\n",
    "                    W_new = W * (T[point, nextpoint] / P[point, nextpoint])\n",
    "                    X += W_new * f[nextpoint]\n",
    "                end\n",
    "                point = nextpoint\n",
    "                W = W_new\n",
    "            end\n",
    "            local_Xs[i] += X\n",
    "        end\n",
    "    end\n",
    "    return local_Xs ./ Nc\n",
    "end\n",
    "\n",
    "function parallel_mcmc(ϵ, δ, A, b, num_iterations)\n",
    "    nworkers() > 1 || error(\"Parallel computing requires more than one worker.\")\n",
    "\n",
    "    Xs = SharedArray{Float64}(zeros(length(b)))\n",
    "    @distributed for _ in 1:num_iterations\n",
    "        Xs .+= mcmc_iteration!(zeros(length(b)), ϵ, δ, A, b)\n",
    "        display(Xs)\n",
    "    end\n",
    "\n",
    "    return Xs ./ num_iterations\n",
    "end\n"
   ]
  },
  {
   "cell_type": "code",
   "execution_count": 28,
   "metadata": {},
   "outputs": [],
   "source": [
    "parallel_mcmc(ϵ, δ, A, b, 40);"
   ]
  }
 ],
 "metadata": {
  "kernelspec": {
   "display_name": "Julia 1.10.2",
   "language": "julia",
   "name": "julia-1.10"
  },
  "language_info": {
   "file_extension": ".jl",
   "mimetype": "application/julia",
   "name": "julia",
   "version": "1.10.2"
  }
 },
 "nbformat": 4,
 "nbformat_minor": 2
}
