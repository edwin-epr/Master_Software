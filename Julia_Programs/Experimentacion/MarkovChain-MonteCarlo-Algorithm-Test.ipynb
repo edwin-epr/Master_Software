{
 "cells": [
  {
   "cell_type": "markdown",
   "metadata": {},
   "source": [
    "# Método Cadena Markov-Monte Carlo (MCMC)"
   ]
  },
  {
   "cell_type": "markdown",
   "metadata": {},
   "source": [
    "Abordaremos el problema de calcular la solución de un sistema de ecuaciones lineales algebráico y/o la inversa de la matriz de coeficientes del sistema."
   ]
  },
  {
   "cell_type": "markdown",
   "metadata": {},
   "source": [
    "Sea el sistema: $$Ax=b$$ donde $A \\in \\mathbb{R}^{n \\times n}$ y $x,b \\in \\mathbb{R}^{n \\times 1}$.\n",
    "\n",
    "Asumiendo que $\\left \\| A \\right \\| < 1$, la fórmula iterativa $$x = Tx +f$$ converge a la solución $\\hat{x}$ del sistema para cualquier $x_0$ inicial por medio de la descomposición $A = M-N$, se calcula $T = M^{-1}N$ y $f = M^{-1}b$     "
   ]
  },
  {
   "cell_type": "markdown",
   "metadata": {},
   "source": [
    "## Caso general"
   ]
  },
  {
   "cell_type": "markdown",
   "metadata": {},
   "source": [
    "$\\left \\| A \\right \\| > 1$, por lo que es necesario disminuir esta la norma para que el método logre converger."
   ]
  },
  {
   "cell_type": "markdown",
   "metadata": {},
   "source": [
    "Sea el sistema\n",
    "$$\n",
    "\\begin{bmatrix}\n",
    " 1 & -3 & 2\\\\ \n",
    "-1 &  2 & 4\\\\ \n",
    " 3 & -2 & 1\n",
    "\\end{bmatrix}\n",
    "\\begin{bmatrix}\n",
    " x_1 \\\\ \n",
    " x_2\\\\ \n",
    " x_3\n",
    "\\end{bmatrix}\n",
    "=\n",
    "\\begin{bmatrix}\n",
    "-3 \\\\ \n",
    "-4 \\\\ \n",
    " 3\n",
    "\\end{bmatrix}\n",
    "$$"
   ]
  },
  {
   "cell_type": "code",
   "execution_count": 2,
   "metadata": {},
   "outputs": [],
   "source": [
    "using LinearAlgebra"
   ]
  },
  {
   "cell_type": "code",
   "execution_count": 3,
   "metadata": {},
   "outputs": [
    {
     "data": {
      "text/plain": [
       "3-element Array{Float64,1}:\n",
       "  2.0\n",
       "  1.0\n",
       " -1.0"
      ]
     },
     "execution_count": 3,
     "metadata": {},
     "output_type": "execute_result"
    }
   ],
   "source": [
    "A = [ 1 -3 2; -1 2 4; 3 -2 1 ]\n",
    "b = [-3, -4, 3]\n",
    "A\\b"
   ]
  },
  {
   "cell_type": "code",
   "execution_count": 4,
   "metadata": {},
   "outputs": [
    {
     "data": {
      "text/plain": [
       "3×3 Array{Int64,2}:\n",
       "  1  -3  2\n",
       " -1   2  4\n",
       "  3  -2  1"
      ]
     },
     "execution_count": 4,
     "metadata": {},
     "output_type": "execute_result"
    }
   ],
   "source": [
    "A"
   ]
  },
  {
   "cell_type": "code",
   "execution_count": 5,
   "metadata": {},
   "outputs": [
    {
     "data": {
      "text/plain": [
       "7.0"
      ]
     },
     "execution_count": 5,
     "metadata": {},
     "output_type": "execute_result"
    }
   ],
   "source": [
    "nA = norm(A)"
   ]
  },
  {
   "cell_type": "markdown",
   "metadata": {},
   "source": [
    "The `p`-norm está definida como\n",
    "\n",
    "$$ \\|A\\|_p = \\left( \\sum_{i=1}^n | a_i | ^p \\right)^{1/p} $$"
   ]
  },
  {
   "cell_type": "code",
   "execution_count": null,
   "metadata": {},
   "outputs": [],
   "source": [
    "?norm"
   ]
  },
  {
   "cell_type": "code",
   "execution_count": 7,
   "metadata": {},
   "outputs": [
    {
     "data": {
      "text/plain": [
       "3-element Array{Complex{Float64},1}:\n",
       " -2.1491906510387753 + 0.0im              \n",
       "   3.074595325519387 + 2.786152659665636im\n",
       "   3.074595325519387 - 2.786152659665636im"
      ]
     },
     "execution_count": 7,
     "metadata": {},
     "output_type": "execute_result"
    }
   ],
   "source": [
    "eigvals(A)"
   ]
  },
  {
   "cell_type": "markdown",
   "metadata": {},
   "source": [
    "Los eigenvalores están fuera del círculo unitario, esto es que $\\rho(A) \\nless 1$ "
   ]
  },
  {
   "cell_type": "markdown",
   "metadata": {},
   "source": [
    "Se propone modificar los elementos $a_{ii}$ de la diagonal de $A$ por un factor $\\gamma_i \\left \\| A \\right \\|$ donde cada valor $\\gamma_i \\in \\{ 1, 2, ... \\}$"
   ]
  },
  {
   "cell_type": "code",
   "execution_count": 8,
   "metadata": {},
   "outputs": [
    {
     "data": {
      "text/plain": [
       "3-element Array{Float64,1}:\n",
       " 22.0\n",
       " 58.0\n",
       " 78.0"
      ]
     },
     "execution_count": 8,
     "metadata": {},
     "output_type": "execute_result"
    }
   ],
   "source": [
    "γ = [3, 8, 11]\n",
    "v = diag(A) + γ * nA"
   ]
  },
  {
   "cell_type": "markdown",
   "metadata": {},
   "source": [
    "Se construye la matriz $M$ con la nueva diagonal con pesos y los valores fuera de la diagonal principal son los mismos que la matriz $A$"
   ]
  },
  {
   "cell_type": "code",
   "execution_count": 9,
   "metadata": {},
   "outputs": [
    {
     "data": {
      "text/plain": [
       "3×3 Array{Float64,2}:\n",
       " 22.0  -3.0   2.0\n",
       " -1.0  58.0   4.0\n",
       "  3.0  -2.0  78.0"
      ]
     },
     "execution_count": 9,
     "metadata": {},
     "output_type": "execute_result"
    }
   ],
   "source": [
    "dA = diagm(0 => v)\n",
    "uA = triu(A,1)\n",
    "lA = tril(A,-1)\n",
    "M = uA + dA+ lA"
   ]
  },
  {
   "cell_type": "code",
   "execution_count": 12,
   "metadata": {},
   "outputs": [
    {
     "data": {
      "text/plain": [
       "3×3 Array{Float64,2}:\n",
       " 21.0   0.0   0.0\n",
       "  0.0  56.0   0.0\n",
       "  0.0   0.0  77.0"
      ]
     },
     "execution_count": 12,
     "metadata": {},
     "output_type": "execute_result"
    }
   ],
   "source": [
    "N = M - A"
   ]
  },
  {
   "cell_type": "code",
   "execution_count": 13,
   "metadata": {},
   "outputs": [
    {
     "data": {
      "text/plain": [
       "3×3 Array{Float64,2}:\n",
       "  0.96046    0.129983  -0.0994651\n",
       "  0.0190736  0.966394  -0.0699364\n",
       " -0.0364517  0.01978    0.989212 "
      ]
     },
     "execution_count": 13,
     "metadata": {},
     "output_type": "execute_result"
    }
   ],
   "source": [
    "T = inv(M) * N"
   ]
  },
  {
   "cell_type": "code",
   "execution_count": 14,
   "metadata": {},
   "outputs": [
    {
     "data": {
      "text/plain": [
       "1.6937252637044944"
      ]
     },
     "execution_count": 14,
     "metadata": {},
     "output_type": "execute_result"
    }
   ],
   "source": [
    "norm(T)"
   ]
  },
  {
   "cell_type": "code",
   "execution_count": 15,
   "metadata": {},
   "outputs": [
    {
     "data": {
      "text/plain": [
       "3-element Array{Complex{Float64},1}:\n",
       "  1.060621601723748 + 0.0im                 \n",
       " 0.9277223003592385 + 0.030584642633741544im\n",
       " 0.9277223003592385 - 0.030584642633741544im"
      ]
     },
     "execution_count": 15,
     "metadata": {},
     "output_type": "execute_result"
    }
   ],
   "source": [
    "eigvals(T)"
   ]
  },
  {
   "cell_type": "code",
   "execution_count": 314,
   "metadata": {},
   "outputs": [
    {
     "data": {
      "text/plain": [
       "3-element Array{Float64,1}:\n",
       " -0.1503683520032294 \n",
       " -0.07447774750227065\n",
       "  0.04233525078211727"
      ]
     },
     "execution_count": 314,
     "metadata": {},
     "output_type": "execute_result"
    }
   ],
   "source": [
    "f = inv(M) * b"
   ]
  },
  {
   "cell_type": "markdown",
   "metadata": {},
   "source": [
    "## Caso diagonal dominante"
   ]
  },
  {
   "cell_type": "markdown",
   "metadata": {},
   "source": [
    "Sea el sistema:\n",
    "$$\n",
    "\\begin{bmatrix}\n",
    " 3 & -2 & 0 \\\\ \n",
    " 1 &  3 & -1\\\\ \n",
    " 2 &  1 & 4\n",
    "\\end{bmatrix}\n",
    "\\begin{bmatrix}\n",
    " x_1 \\\\ \n",
    " x_2\\\\ \n",
    " x_3\n",
    "\\end{bmatrix}\n",
    "=\n",
    "\\begin{bmatrix}\n",
    "-3 \\\\ \n",
    "-3 \\\\ \n",
    " 6\n",
    "\\end{bmatrix}\n",
    "$$"
   ]
  },
  {
   "cell_type": "code",
   "execution_count": 179,
   "metadata": {},
   "outputs": [
    {
     "data": {
      "text/plain": [
       "3-element Vector{Float64}:\n",
       " -1.0\n",
       "  0.0\n",
       "  2.0"
      ]
     },
     "execution_count": 179,
     "metadata": {},
     "output_type": "execute_result"
    }
   ],
   "source": [
    "A = [3 -2 0; 1 3 -1; 2 1 4]\n",
    "b = [-3, -3, 6]\n",
    "A\\b"
   ]
  },
  {
   "cell_type": "code",
   "execution_count": 180,
   "metadata": {},
   "outputs": [
    {
     "data": {
      "text/plain": [
       "3×3 Matrix{Int64}:\n",
       " 3  -2   0\n",
       " 1   3  -1\n",
       " 2   1   4"
      ]
     },
     "execution_count": 180,
     "metadata": {},
     "output_type": "execute_result"
    }
   ],
   "source": [
    "A"
   ]
  },
  {
   "cell_type": "code",
   "execution_count": 181,
   "metadata": {},
   "outputs": [
    {
     "data": {
      "text/plain": [
       "3×3 Matrix{Float64}:\n",
       "  0.254902    0.156863  0.0392157\n",
       " -0.117647    0.235294  0.0588235\n",
       " -0.0980392  -0.137255  0.215686"
      ]
     },
     "execution_count": 181,
     "metadata": {},
     "output_type": "execute_result"
    }
   ],
   "source": [
    "inv(A)"
   ]
  },
  {
   "cell_type": "code",
   "execution_count": 182,
   "metadata": {},
   "outputs": [
    {
     "data": {
      "text/plain": [
       "6.708203932499369"
      ]
     },
     "execution_count": 182,
     "metadata": {},
     "output_type": "execute_result"
    }
   ],
   "source": [
    "nA = norm(A)"
   ]
  },
  {
   "cell_type": "code",
   "execution_count": 183,
   "metadata": {},
   "outputs": [
    {
     "data": {
      "text/plain": [
       "3-element Vector{ComplexF64}:\n",
       " 2.7229904343925493 - 1.9453076953348492im\n",
       " 2.7229904343925493 + 1.9453076953348492im\n",
       "  4.554019131214901 + 0.0im"
      ]
     },
     "execution_count": 183,
     "metadata": {},
     "output_type": "execute_result"
    }
   ],
   "source": [
    "eigvals(A)"
   ]
  },
  {
   "cell_type": "markdown",
   "metadata": {},
   "source": [
    "La matriz de coeficientes $A$ es diagonalmente dominante, lo cual nos permitirá obtener una matriz $T$ la cual tenga $\\rho(T) < 1$"
   ]
  },
  {
   "cell_type": "code",
   "execution_count": 184,
   "metadata": {},
   "outputs": [
    {
     "data": {
      "text/plain": [
       "3×3 Matrix{Int64}:\n",
       " 3  0  0\n",
       " 0  3  0\n",
       " 0  0  4"
      ]
     },
     "execution_count": 184,
     "metadata": {},
     "output_type": "execute_result"
    }
   ],
   "source": [
    "M = diagm(0 => diag(A))"
   ]
  },
  {
   "cell_type": "code",
   "execution_count": 185,
   "metadata": {},
   "outputs": [
    {
     "data": {
      "text/plain": [
       "3×3 Matrix{Int64}:\n",
       "  0   2  0\n",
       " -1   0  1\n",
       " -2  -1  0"
      ]
     },
     "execution_count": 185,
     "metadata": {},
     "output_type": "execute_result"
    }
   ],
   "source": [
    "N = M-A"
   ]
  },
  {
   "cell_type": "code",
   "execution_count": 186,
   "metadata": {},
   "outputs": [
    {
     "data": {
      "text/plain": [
       "3×3 Matrix{Float64}:\n",
       "  0.0        0.666667  0.0\n",
       " -0.333333   0.0       0.333333\n",
       " -0.5       -0.25      0.0"
      ]
     },
     "execution_count": 186,
     "metadata": {},
     "output_type": "execute_result"
    }
   ],
   "source": [
    "T = inv(M) * N"
   ]
  },
  {
   "cell_type": "code",
   "execution_count": 187,
   "metadata": {},
   "outputs": [
    {
     "data": {
      "text/plain": [
       "0.9895285072531598"
      ]
     },
     "execution_count": 187,
     "metadata": {},
     "output_type": "execute_result"
    }
   ],
   "source": [
    "norm(T)"
   ]
  },
  {
   "cell_type": "code",
   "execution_count": 188,
   "metadata": {},
   "outputs": [
    {
     "data": {
      "text/plain": [
       "3-element Vector{ComplexF64}:\n",
       " -0.2865958167935963 + 0.0im\n",
       " 0.14329790839679796 - 0.6059359926660953im\n",
       " 0.14329790839679796 + 0.6059359926660953im"
      ]
     },
     "execution_count": 188,
     "metadata": {},
     "output_type": "execute_result"
    }
   ],
   "source": [
    "eigvals(T)"
   ]
  },
  {
   "cell_type": "code",
   "execution_count": 189,
   "metadata": {},
   "outputs": [
    {
     "data": {
      "text/plain": [
       "3-element Vector{Float64}:\n",
       " -1.0\n",
       " -1.0\n",
       "  1.5"
      ]
     },
     "execution_count": 189,
     "metadata": {},
     "output_type": "execute_result"
    }
   ],
   "source": [
    "f = inv(M) * b"
   ]
  },
  {
   "cell_type": "markdown",
   "metadata": {},
   "source": [
    "## Algoritmo MCMC para el cálculo del vector solución "
   ]
  },
  {
   "cell_type": "markdown",
   "metadata": {},
   "source": [
    "Usemos el sistema anterior (_diagonal dominante_) $Ax = b$ y los correspondientes $T$ y $f$ calculados"
   ]
  },
  {
   "cell_type": "code",
   "execution_count": 37,
   "metadata": {},
   "outputs": [
    {
     "data": {
      "text/plain": [
       "3×3 Matrix{Float64}:\n",
       " 1.0       0.0       0.0\n",
       " 0.333333  1.0       0.0\n",
       " 0.666667  0.636364  1.0"
      ]
     },
     "execution_count": 37,
     "metadata": {},
     "output_type": "execute_result"
    }
   ],
   "source": [
    "a = [1. 0 0; 0.333333 1. 0; 0.666667 0.636364 1.]"
   ]
  },
  {
   "cell_type": "code",
   "execution_count": 38,
   "metadata": {},
   "outputs": [
    {
     "data": {
      "text/plain": [
       "3×3 Matrix{Float64}:\n",
       " 3.0  -2.0       0.0\n",
       " 0.0   3.66667  -1.0\n",
       " 0.0   0.0       4.63636"
      ]
     },
     "execution_count": 38,
     "metadata": {},
     "output_type": "execute_result"
    }
   ],
   "source": [
    "b = [3. -2 0.; 0 3.666667 -1.; 0. 0. 4.636364]"
   ]
  },
  {
   "cell_type": "code",
   "execution_count": 39,
   "metadata": {},
   "outputs": [
    {
     "data": {
      "text/plain": [
       "3×3 Matrix{Float64}:\n",
       " 3.0       -2.0   0.0\n",
       " 0.999999   3.0  -1.0\n",
       " 2.0        1.0   4.0"
      ]
     },
     "execution_count": 39,
     "metadata": {},
     "output_type": "execute_result"
    }
   ],
   "source": [
    "a * b"
   ]
  },
  {
   "cell_type": "code",
   "execution_count": 55,
   "metadata": {},
   "outputs": [
    {
     "data": {
      "text/plain": [
       "3×3 Matrix{Float64}:\n",
       " 1.0       0.0       0.0\n",
       " 0.333333  1.0       0.0\n",
       " 0.666667  0.636364  1.0"
      ]
     },
     "execution_count": 55,
     "metadata": {},
     "output_type": "execute_result"
    }
   ],
   "source": [
    "a"
   ]
  },
  {
   "cell_type": "code",
   "execution_count": 56,
   "metadata": {},
   "outputs": [
    {
     "data": {
      "text/plain": [
       "3-element Vector{Int64}:\n",
       " -3\n",
       " -3\n",
       "  6"
      ]
     },
     "execution_count": 56,
     "metadata": {},
     "output_type": "execute_result"
    }
   ],
   "source": [
    "b"
   ]
  },
  {
   "cell_type": "code",
   "execution_count": 190,
   "metadata": {},
   "outputs": [
    {
     "data": {
      "text/plain": [
       "3×3 Matrix{Float64}:\n",
       "  0.0        0.666667  0.0\n",
       " -0.333333   0.0       0.333333\n",
       " -0.5       -0.25      0.0"
      ]
     },
     "execution_count": 190,
     "metadata": {},
     "output_type": "execute_result"
    }
   ],
   "source": [
    "T"
   ]
  },
  {
   "cell_type": "code",
   "execution_count": 191,
   "metadata": {},
   "outputs": [
    {
     "data": {
      "text/plain": [
       "3-element Vector{Float64}:\n",
       " -1.0\n",
       " -1.0\n",
       "  1.5"
      ]
     },
     "execution_count": 191,
     "metadata": {},
     "output_type": "execute_result"
    }
   ],
   "source": [
    "f"
   ]
  },
  {
   "cell_type": "code",
   "execution_count": 192,
   "metadata": {},
   "outputs": [
    {
     "data": {
      "text/plain": [
       "(3, 3)"
      ]
     },
     "execution_count": 192,
     "metadata": {},
     "output_type": "execute_result"
    }
   ],
   "source": [
    "nT, mT = size(T)"
   ]
  },
  {
   "cell_type": "markdown",
   "metadata": {},
   "source": [
    "Procedemos a calcular la matriz de probabilidad $P$ y el vector inicial de probabilidad $p$ con las propiedade vistas en clase..."
   ]
  },
  {
   "cell_type": "code",
   "execution_count": 193,
   "metadata": {},
   "outputs": [
    {
     "data": {
      "text/plain": [
       "3-element Vector{Int64}:\n",
       " 1\n",
       " 2\n",
       " 2"
      ]
     },
     "execution_count": 193,
     "metadata": {},
     "output_type": "execute_result"
    }
   ],
   "source": [
    "S = fill(0, nT);\n",
    "[S[i] += 1 for i in 1:nT, j in 1:mT if T[i,j] != 0];\n",
    "S"
   ]
  },
  {
   "cell_type": "code",
   "execution_count": 194,
   "metadata": {},
   "outputs": [
    {
     "data": {
      "text/plain": [
       "3×3 Matrix{Float64}:\n",
       " 0.0  1.0  0.0\n",
       " 0.5  0.0  0.5\n",
       " 0.5  0.5  0.0"
      ]
     },
     "execution_count": 194,
     "metadata": {},
     "output_type": "execute_result"
    }
   ],
   "source": [
    "P = fill(0., nT, mT)\n",
    "[P[i,j]= 1/S[i] for i in 1:nT, j in 1:mT if T[i,j] != 0 ]\n",
    "P"
   ]
  },
  {
   "cell_type": "code",
   "execution_count": 195,
   "metadata": {},
   "outputs": [
    {
     "data": {
      "text/plain": [
       "3-element Vector{Float64}:\n",
       " 0.3333333333333333\n",
       " 0.3333333333333333\n",
       " 0.3333333333333333"
      ]
     },
     "execution_count": 195,
     "metadata": {},
     "output_type": "execute_result"
    }
   ],
   "source": [
    "Pi = [1/nT for i in 1:nT]"
   ]
  },
  {
   "cell_type": "markdown",
   "metadata": {},
   "source": [
    "Definimos el error de exactitud $\\epsilon$ y el error estadístico $\\delta$ :"
   ]
  },
  {
   "cell_type": "code",
   "execution_count": 196,
   "metadata": {},
   "outputs": [
    {
     "data": {
      "text/plain": [
       "0.1"
      ]
     },
     "execution_count": 196,
     "metadata": {},
     "output_type": "execute_result"
    }
   ],
   "source": [
    "ϵ = 0.01\n",
    "δ = 0.1 "
   ]
  },
  {
   "cell_type": "markdown",
   "metadata": {},
   "source": [
    "El número $N$ de cadenas de Markov construidas está dada por la expresión:"
   ]
  },
  {
   "cell_type": "code",
   "execution_count": 197,
   "metadata": {},
   "outputs": [
    {
     "data": {
      "text/plain": [
       "1.763339e6"
      ]
     },
     "execution_count": 197,
     "metadata": {},
     "output_type": "execute_result"
    }
   ],
   "source": [
    "N = floor((0.6745/δ)^2*((norm(f)^2)/(1-norm(T))^2)) + 1\n",
    "\n",
    "# Otros enfoques consideran la cota inferior:\n",
    "#N = floor((0.6745/δ)^2*(1/(1-norm(T))^2))"
   ]
  },
  {
   "cell_type": "markdown",
   "metadata": {},
   "source": [
    "Algoritmo MCMC:"
   ]
  },
  {
   "cell_type": "code",
   "execution_count": 383,
   "metadata": {},
   "outputs": [
    {
     "data": {
      "text/plain": [
       "3-element Array{Float64,1}:\n",
       " -0.996266215137428   \n",
       "  0.002520001320463495\n",
       "  1.9973920473263218  "
      ]
     },
     "execution_count": 383,
     "metadata": {},
     "output_type": "execute_result"
    }
   ],
   "source": [
    "Xs = fill(0., mT)\n",
    "for i in 1:mT\n",
    "    W_0 = 1\n",
    "    for s in 1:N\n",
    "        W = W_0; k = 0; point = i; X = W_0 * f[i]\n",
    "        while abs(W) >= ϵ\n",
    "            nextpoint  = 1\n",
    "            u = rand()\n",
    "            #println(u)\n",
    "            while u >= sum(P[point, 1:nextpoint])\n",
    "                nextpoint = nextpoint + 1\n",
    "                #println(nextpoint)\n",
    "            end\n",
    "            k = k + 1\n",
    "            if T[point, nextpoint] != 0 \n",
    "                W_new = W *(T[point, nextpoint]/P[point, nextpoint])\n",
    "                X = X + W_new * f[nextpoint]\n",
    "            end\n",
    "            point = nextpoint\n",
    "            W = W_new\n",
    "        end\n",
    "    Xs[i] += X\n",
    "    end\n",
    "end\n",
    "Xs = Xs/N"
   ]
  },
  {
   "cell_type": "code",
   "execution_count": 384,
   "metadata": {},
   "outputs": [
    {
     "data": {
      "text/plain": [
       "3×3 Array{Int64,2}:\n",
       " 3  -2   0\n",
       " 1   3  -1\n",
       " 2   1   4"
      ]
     },
     "execution_count": 384,
     "metadata": {},
     "output_type": "execute_result"
    }
   ],
   "source": [
    "A "
   ]
  },
  {
   "cell_type": "code",
   "execution_count": 385,
   "metadata": {},
   "outputs": [
    {
     "data": {
      "text/plain": [
       "3-element Array{Int64,1}:\n",
       " -3\n",
       " -3\n",
       "  6"
      ]
     },
     "execution_count": 385,
     "metadata": {},
     "output_type": "execute_result"
    }
   ],
   "source": [
    "b"
   ]
  },
  {
   "cell_type": "code",
   "execution_count": 386,
   "metadata": {},
   "outputs": [
    {
     "data": {
      "text/plain": [
       "0.015212429896149625"
      ]
     },
     "execution_count": 386,
     "metadata": {},
     "output_type": "execute_result"
    }
   ],
   "source": [
    "norm(b-A*Xs)"
   ]
  },
  {
   "cell_type": "markdown",
   "metadata": {},
   "source": [
    "Algunos resultados que se obtuvieron fueron los siguientes:\n",
    "\\begin{matrix}\n",
    "\\hline\n",
    "\\delta & \\epsilon & \\left \\|b-AXs \\right \\| \\\\ \\hline\n",
    "0.1   & 0.1      &  0.3153  \\\\\n",
    "0.1   & 0.01     &  0.0156  \\\\\n",
    "0.1   & 0.005    &  0.0058  \\\\ \\hline\n",
    "\\end{matrix}"
   ]
  },
  {
   "cell_type": "markdown",
   "metadata": {},
   "source": [
    "## Tests"
   ]
  },
  {
   "cell_type": "code",
   "execution_count": 1,
   "metadata": {},
   "outputs": [],
   "source": [
    "using LinearAlgebra\n",
    "using BenchmarkTools"
   ]
  },
  {
   "cell_type": "markdown",
   "metadata": {},
   "source": [
    "### Sistema de ecuaciones\n",
    "Crea el sistema de ecuaciones $Ax = b$ predeterminado cuya solución $X$ el el vector de 1's.\n",
    "\n",
    "La construcción de la matriz $A$ y el vector $b$ para el sistema de $n$ ecuaciones con $n$ incógnitas puede consultarse en **Timothy Sauer, Análisis Numérico, 2a. Ed, Pearson, 2013**."
   ]
  },
  {
   "cell_type": "markdown",
   "metadata": {},
   "source": [
    "#### Ejemplo de $6 \\times 6$"
   ]
  },
  {
   "cell_type": "code",
   "execution_count": 5,
   "metadata": {},
   "outputs": [
    {
     "data": {
      "text/plain": [
       "6-element Vector{Float64}:\n",
       " 1.0\n",
       " 1.0\n",
       " 1.0\n",
       " 1.0\n",
       " 1.0\n",
       " 1.0"
      ]
     },
     "execution_count": 5,
     "metadata": {},
     "output_type": "execute_result"
    }
   ],
   "source": [
    "A = [ 3  -1   0  0   0  1/2;\n",
    "     -1   3  -1  0  1/2  0 ;\n",
    "      0  -1   3  -1  0   0 ;\n",
    "      0   0  -1  3  -1   0 ;\n",
    "      0  1/2  0  -1  3  -1 ;\n",
    "     1/2  0   0  0  -1   3 ] \n",
    "\n",
    "b = [5/2, 3/2, 1, 1, 3/2, 5/2]"
   ]
  },
  {
   "cell_type": "code",
   "execution_count": 6,
   "metadata": {},
   "outputs": [
    {
     "data": {
      "text/plain": [
       "6×6 Matrix{Float64}:\n",
       "  3.0  -1.0   0.0   0.0   0.0   0.5\n",
       " -1.0   3.0  -1.0   0.0   0.5   0.0\n",
       "  0.0  -1.0   3.0  -1.0   0.0   0.0\n",
       "  0.0   0.0  -1.0   3.0  -1.0   0.0\n",
       "  0.0   0.5   0.0  -1.0   3.0  -1.0\n",
       "  0.5   0.0   0.0   0.0  -1.0   3.0"
      ]
     },
     "execution_count": 6,
     "metadata": {},
     "output_type": "execute_result"
    }
   ],
   "source": [
    "A"
   ]
  },
  {
   "cell_type": "code",
   "execution_count": 7,
   "metadata": {},
   "outputs": [
    {
     "data": {
      "text/plain": [
       "6-element Vector{Float64}:\n",
       " 2.5\n",
       " 1.5\n",
       " 1.0\n",
       " 1.0\n",
       " 1.5\n",
       " 2.5"
      ]
     },
     "execution_count": 7,
     "metadata": {},
     "output_type": "execute_result"
    }
   ],
   "source": [
    "b"
   ]
  },
  {
   "cell_type": "code",
   "execution_count": 9,
   "metadata": {},
   "outputs": [
    {
     "data": {
      "text/plain": [
       "6-element Vector{Float64}:\n",
       " 1.0\n",
       " 1.0\n",
       " 1.0\n",
       " 1.0\n",
       " 1.0\n",
       " 1.0"
      ]
     },
     "execution_count": 9,
     "metadata": {},
     "output_type": "execute_result"
    }
   ],
   "source": [
    "A\\b"
   ]
  },
  {
   "cell_type": "markdown",
   "metadata": {},
   "source": [
    "La función **matrix225()** devuelve la matriz $A$ y el vector $b$ del sistema. "
   ]
  },
  {
   "cell_type": "code",
   "execution_count": 2,
   "metadata": {},
   "outputs": [
    {
     "data": {
      "text/plain": [
       "matrix225 (generic function with 1 method)"
      ]
     },
     "execution_count": 2,
     "metadata": {},
     "output_type": "execute_result"
    }
   ],
   "source": [
    "function matrix225(n)\n",
    "    a = zeros(Float64, n,n);\n",
    "    for i in 1:n\n",
    "        for j in 1:n\n",
    "\n",
    "            if i == j\n",
    "                a[i,j] = 3.0;\n",
    "                if i>=2\n",
    "                    a[i-1,j] = -1.0;\n",
    "                end\n",
    "                if j>= 2\n",
    "                    a[i,j-1] = -1.0;\n",
    "                end\n",
    "            else\n",
    "                a[i,j] = 0.0;\n",
    "            end\n",
    "\n",
    "            if (j == (n - i +1) && a[i,j] == 0)\n",
    "                a[i,j]=0.5;\n",
    "            end\n",
    "        end\n",
    "    end\n",
    "    b = zeros(Float64, n);\n",
    "\n",
    "    for i in 1:n\n",
    "        b[i] =1.5;\n",
    "    end\n",
    "    len = floor(Int, n/2);\n",
    "    b[1] = 2.5;\n",
    "    b[n] = 2.5;\n",
    "    b[len] = 1.0;\n",
    "    b[len+1] = 1.0;\n",
    "    (a,b)\n",
    "end"
   ]
  },
  {
   "cell_type": "code",
   "execution_count": 3,
   "metadata": {},
   "outputs": [
    {
     "data": {
      "text/plain": [
       "6×6 Matrix{Float64}:\n",
       "  3.0  -1.0   0.0   0.0   0.0   0.5\n",
       " -1.0   3.0  -1.0   0.0   0.5   0.0\n",
       "  0.0  -1.0   3.0  -1.0   0.0   0.0\n",
       "  0.0   0.0  -1.0   3.0  -1.0   0.0\n",
       "  0.0   0.5   0.0  -1.0   3.0  -1.0\n",
       "  0.5   0.0   0.0   0.0  -1.0   3.0"
      ]
     },
     "execution_count": 3,
     "metadata": {},
     "output_type": "execute_result"
    }
   ],
   "source": [
    "A = matrix225(6)[1]\n",
    "A"
   ]
  },
  {
   "cell_type": "code",
   "execution_count": 4,
   "metadata": {},
   "outputs": [
    {
     "data": {
      "text/plain": [
       "6-element Vector{Float64}:\n",
       " 2.5\n",
       " 1.5\n",
       " 1.0\n",
       " 1.0\n",
       " 1.5\n",
       " 2.5"
      ]
     },
     "execution_count": 4,
     "metadata": {},
     "output_type": "execute_result"
    }
   ],
   "source": [
    "b = matrix225(6)[2]\n",
    "b"
   ]
  },
  {
   "cell_type": "code",
   "execution_count": 5,
   "metadata": {},
   "outputs": [
    {
     "data": {
      "text/plain": [
       "6-element Vector{Float64}:\n",
       " 1.0\n",
       " 1.0\n",
       " 1.0\n",
       " 1.0\n",
       " 1.0\n",
       " 1.0"
      ]
     },
     "execution_count": 5,
     "metadata": {},
     "output_type": "execute_result"
    }
   ],
   "source": [
    "A\\b"
   ]
  },
  {
   "cell_type": "markdown",
   "metadata": {},
   "source": [
    "### Descomposición $A = Tx + f$\n",
    "Se calcula la factorización de A mediante la descomposición $A = M-N$, se calcula $T = M^{-1}N$ y $f = M^{-1}b$ y la matriz de probabilidad acumulada $P$"
   ]
  },
  {
   "cell_type": "code",
   "execution_count": 6,
   "metadata": {},
   "outputs": [
    {
     "data": {
      "text/plain": [
       "8.06225774829855"
      ]
     },
     "execution_count": 6,
     "metadata": {},
     "output_type": "execute_result"
    }
   ],
   "source": [
    "nA = norm(A)"
   ]
  },
  {
   "cell_type": "code",
   "execution_count": 7,
   "metadata": {},
   "outputs": [],
   "source": [
    "M = diagm(0 => diag(A))\n",
    "N = M-A\n",
    "T = inv(M) * N\n",
    "f = inv(M) * b\n",
    "nT, mT = size(T);"
   ]
  },
  {
   "cell_type": "code",
   "execution_count": 8,
   "metadata": {},
   "outputs": [
    {
     "data": {
      "text/plain": [
       "6×6 Matrix{Float64}:\n",
       "  0.0        0.333333  0.0       0.0        0.0       -0.166667\n",
       "  0.333333   0.0       0.333333  0.0       -0.166667   0.0\n",
       "  0.0        0.333333  0.0       0.333333   0.0        0.0\n",
       "  0.0        0.0       0.333333  0.0        0.333333   0.0\n",
       "  0.0       -0.166667  0.0       0.333333   0.0        0.333333\n",
       " -0.166667   0.0       0.0       0.0        0.333333   0.0"
      ]
     },
     "execution_count": 8,
     "metadata": {},
     "output_type": "execute_result"
    }
   ],
   "source": [
    "T"
   ]
  },
  {
   "cell_type": "code",
   "execution_count": 9,
   "metadata": {},
   "outputs": [
    {
     "data": {
      "text/plain": [
       "1.1055415967851332"
      ]
     },
     "execution_count": 9,
     "metadata": {},
     "output_type": "execute_result"
    }
   ],
   "source": [
    "norm(T)"
   ]
  },
  {
   "cell_type": "code",
   "execution_count": 10,
   "metadata": {},
   "outputs": [
    {
     "data": {
      "text/plain": [
       "6-element Vector{Float64}:\n",
       " 0.8333333333333333\n",
       " 0.5\n",
       " 0.3333333333333333\n",
       " 0.3333333333333333\n",
       " 0.5\n",
       " 0.8333333333333333"
      ]
     },
     "execution_count": 10,
     "metadata": {},
     "output_type": "execute_result"
    }
   ],
   "source": [
    "f"
   ]
  },
  {
   "cell_type": "code",
   "execution_count": 11,
   "metadata": {},
   "outputs": [
    {
     "data": {
      "text/plain": [
       "1.4529663145135576"
      ]
     },
     "execution_count": 11,
     "metadata": {},
     "output_type": "execute_result"
    }
   ],
   "source": [
    "norm(f)"
   ]
  },
  {
   "cell_type": "markdown",
   "metadata": {},
   "source": [
    "### Implementaciones MCCM"
   ]
  },
  {
   "cell_type": "markdown",
   "metadata": {},
   "source": [
    "#### Parámetros del MCCM"
   ]
  },
  {
   "cell_type": "code",
   "execution_count": 12,
   "metadata": {},
   "outputs": [
    {
     "data": {
      "text/plain": [
       "8.6223904e7"
      ]
     },
     "execution_count": 12,
     "metadata": {},
     "output_type": "execute_result"
    }
   ],
   "source": [
    "ϵ = 0.01\n",
    "δ = 0.001 \n",
    "Nc = floor((0.6745/δ)^2*((norm(f)^2)/(1-norm(T))^2)) + 1"
   ]
  },
  {
   "cell_type": "markdown",
   "metadata": {},
   "source": [
    "#### 1. Matriz de probabilidad acumulada in-situ y variables globales"
   ]
  },
  {
   "cell_type": "code",
   "execution_count": 13,
   "metadata": {},
   "outputs": [],
   "source": [
    "S = fill(0, nT)\n",
    "P = fill(0., nT, mT) \n",
    "[S[i] += 1 for i in 1:nT, j in 1:mT if T[i,j] != 0]\n",
    "[P[i,j]= 1/S[i] for i in 1:nT, j in 1:mT if T[i,j] != 0 ]\n",
    "Pa = [accumulate(+, P[i, 1:mT]) for i in 1:nT]\n",
    "Pi = [1/nT for i in 1:nT];"
   ]
  },
  {
   "cell_type": "code",
   "execution_count": 285,
   "metadata": {},
   "outputs": [
    {
     "data": {
      "text/plain": [
       "8-element Vector{Int64}:\n",
       " 2\n",
       " 3\n",
       " 3\n",
       " 2\n",
       " 2\n",
       " 3\n",
       " 3\n",
       " 2"
      ]
     },
     "execution_count": 285,
     "metadata": {},
     "output_type": "execute_result"
    }
   ],
   "source": [
    "S"
   ]
  },
  {
   "cell_type": "code",
   "execution_count": 286,
   "metadata": {},
   "outputs": [
    {
     "data": {
      "text/plain": [
       "8×8 Matrix{Float64}:\n",
       " 0.0       0.5       0.0       0.0       …  0.0       0.0       0.5\n",
       " 0.333333  0.0       0.333333  0.0          0.0       0.333333  0.0\n",
       " 0.0       0.333333  0.0       0.333333     0.333333  0.0       0.0\n",
       " 0.0       0.0       0.5       0.0          0.0       0.0       0.0\n",
       " 0.0       0.0       0.0       0.5          0.5       0.0       0.0\n",
       " 0.0       0.0       0.333333  0.0       …  0.0       0.333333  0.0\n",
       " 0.0       0.333333  0.0       0.0          0.333333  0.0       0.333333\n",
       " 0.5       0.0       0.0       0.0          0.0       0.5       0.0"
      ]
     },
     "execution_count": 286,
     "metadata": {},
     "output_type": "execute_result"
    }
   ],
   "source": [
    "P"
   ]
  },
  {
   "cell_type": "code",
   "execution_count": 288,
   "metadata": {},
   "outputs": [
    {
     "data": {
      "text/plain": [
       "8-element Vector{Vector{Float64}}:\n",
       " [0.0, 0.5, 0.5, 0.5, 0.5, 0.5, 0.5, 1.0]\n",
       " [0.3333333333333333, 0.3333333333333333, 0.6666666666666666, 0.6666666666666666, 0.6666666666666666, 0.6666666666666666, 1.0, 1.0]\n",
       " [0.0, 0.3333333333333333, 0.3333333333333333, 0.6666666666666666, 0.6666666666666666, 1.0, 1.0, 1.0]\n",
       " [0.0, 0.0, 0.5, 0.5, 1.0, 1.0, 1.0, 1.0]\n",
       " [0.0, 0.0, 0.0, 0.5, 0.5, 1.0, 1.0, 1.0]\n",
       " [0.0, 0.0, 0.3333333333333333, 0.3333333333333333, 0.6666666666666666, 0.6666666666666666, 1.0, 1.0]\n",
       " [0.0, 0.3333333333333333, 0.3333333333333333, 0.3333333333333333, 0.3333333333333333, 0.6666666666666666, 0.6666666666666666, 1.0]\n",
       " [0.5, 0.5, 0.5, 0.5, 0.5, 0.5, 1.0, 1.0]"
      ]
     },
     "execution_count": 288,
     "metadata": {},
     "output_type": "execute_result"
    }
   ],
   "source": [
    "Pa"
   ]
  },
  {
   "cell_type": "code",
   "execution_count": 287,
   "metadata": {},
   "outputs": [
    {
     "data": {
      "text/plain": [
       "8×8 Matrix{Float64}:\n",
       "  0.0        0.333333   0.0       …   0.0        0.0       -0.166667\n",
       "  0.333333   0.0        0.333333      0.0       -0.166667   0.0\n",
       "  0.0        0.333333   0.0          -0.166667   0.0        0.0\n",
       "  0.0        0.0        0.333333      0.0        0.0        0.0\n",
       "  0.0        0.0        0.0           0.333333   0.0        0.0\n",
       "  0.0        0.0       -0.166667  …   0.0        0.333333   0.0\n",
       "  0.0       -0.166667   0.0           0.333333   0.0        0.333333\n",
       " -0.166667   0.0        0.0           0.0        0.333333   0.0"
      ]
     },
     "execution_count": 287,
     "metadata": {},
     "output_type": "execute_result"
    }
   ],
   "source": [
    "T"
   ]
  },
  {
   "cell_type": "code",
   "execution_count": 245,
   "metadata": {},
   "outputs": [
    {
     "data": {
      "text/plain": [
       "4-element Vector{Float64}:\n",
       " 0.8333333333333333\n",
       " 0.3333333333333333\n",
       " 0.3333333333333333\n",
       " 0.8333333333333333"
      ]
     },
     "execution_count": 245,
     "metadata": {},
     "output_type": "execute_result"
    }
   ],
   "source": [
    "f"
   ]
  },
  {
   "cell_type": "code",
   "execution_count": 246,
   "metadata": {},
   "outputs": [
    {
     "data": {
      "text/plain": [
       "mcmc (generic function with 1 method)"
      ]
     },
     "execution_count": 246,
     "metadata": {},
     "output_type": "execute_result"
    }
   ],
   "source": [
    "function mcmc(ϵ, Nc)\n",
    "    Xs = fill(0., mT)\n",
    "    for i in 1:mT\n",
    "        W_0 = 1\n",
    "        for s in 1:Nc\n",
    "            W = W_0; k = 0; point = i; X = W_0 * f[i]\n",
    "            while abs(W) >= ϵ\n",
    "                nextpoint  = 1\n",
    "                u = rand()\n",
    "                while u >= sum(P[point, 1:nextpoint])\n",
    "                    nextpoint = nextpoint + 1\n",
    "                end\n",
    "                #k = k + 1\n",
    "                #println((T[point, nextpoint], P[point, nextpoint]),(point, nextpoint))\n",
    "                if T[point, nextpoint] != 0 \n",
    "                    W_new = W *(T[point, nextpoint]/P[point, nextpoint])\n",
    "                    X = X + W_new * f[nextpoint]\n",
    "                end\n",
    "                point = nextpoint\n",
    "                W = W_new\n",
    "            end\n",
    "        Xs[i] += X\n",
    "        end\n",
    "    end\n",
    "    Xs = Xs/Nc\n",
    "end"
   ]
  },
  {
   "cell_type": "code",
   "execution_count": 247,
   "metadata": {},
   "outputs": [
    {
     "data": {
      "text/plain": [
       "(0.1, 3251.0)"
      ]
     },
     "execution_count": 247,
     "metadata": {},
     "output_type": "execute_result"
    }
   ],
   "source": [
    "(ϵ, Nc)"
   ]
  },
  {
   "cell_type": "code",
   "execution_count": 248,
   "metadata": {},
   "outputs": [
    {
     "name": "stdout",
     "output_type": "stream",
     "text": [
      "  20.758 ms (1238232 allocations: 32.97 MiB)\n"
     ]
    },
    {
     "data": {
      "text/plain": [
       "4-element Vector{Float64}:\n",
       " 0.9995669441233834\n",
       " 1.0007694864244103\n",
       " 0.9871689439723472\n",
       " 0.9909132106233576"
      ]
     },
     "execution_count": 248,
     "metadata": {},
     "output_type": "execute_result"
    }
   ],
   "source": [
    "Xs = @btime mcmc(ϵ, Nc)"
   ]
  },
  {
   "cell_type": "code",
   "execution_count": 249,
   "metadata": {},
   "outputs": [
    {
     "data": {
      "text/plain": [
       "0.03756737452277852"
      ]
     },
     "execution_count": 249,
     "metadata": {},
     "output_type": "execute_result"
    }
   ],
   "source": [
    "norm(b-A*Xs)"
   ]
  },
  {
   "cell_type": "markdown",
   "metadata": {},
   "source": [
    "#### 2. Envío de A, b, cálculo de la descomposición, matriz acumulada in-situ"
   ]
  },
  {
   "cell_type": "code",
   "execution_count": 34,
   "metadata": {},
   "outputs": [
    {
     "data": {
      "text/plain": [
       "mcmc_par (generic function with 1 method)"
      ]
     },
     "execution_count": 34,
     "metadata": {},
     "output_type": "execute_result"
    }
   ],
   "source": [
    "function mcmc_par(ϵ, δ, A::Matrix{Float64}, b::Vector{Float64}) #A::Matrix{Float64}, b::Vector{Float64})\n",
    "    M = diagm(0 => diag(A))\n",
    "    N = M-A\n",
    "    T = inv(M) * N\n",
    "    f = inv(M) * b\n",
    "    nT, mT = size(T)\n",
    "    S = fill(0, nT)\n",
    "    P = fill(0., nT, mT) \n",
    "    [S[i] += 1 for i in 1:nT, j in 1:mT if T[i,j] != 0]\n",
    "    [P[i,j]= 1/S[i] for i in 1:nT, j in 1:mT if T[i,j] != 0 ]\n",
    "    Pi = [1/nT for i in 1:nT];\n",
    "    Nc = floor((0.6745/δ)^2*((norm(f)^2)/(1-norm(T))^2)) + 1\n",
    "  \n",
    "    Xs = fill(0., mT)\n",
    "\n",
    "    for i in 1:mT\n",
    "        W_0 = 1\n",
    "        for s in 1:Nc\n",
    "            W = W_0; k = 0; point = i; X = W_0 * f[i]\n",
    "            while abs(W) >= ϵ\n",
    "                nextpoint  = 1\n",
    "                u = rand()\n",
    "                while u >= sum(P[point, 1:nextpoint])\n",
    "                    nextpoint = nextpoint + 1\n",
    "                end\n",
    "                k = k + 1\n",
    "                if T[point, nextpoint] != 0 \n",
    "                    W_new = W *(T[point, nextpoint]/P[point, nextpoint])\n",
    "                    X = X + W_new * f[nextpoint]\n",
    "                end\n",
    "                point = nextpoint\n",
    "                W = W_new\n",
    "            end\n",
    "        Xs[i] += X\n",
    "        end\n",
    "    end\n",
    "    Xs = Xs/Nc\n",
    "\n",
    "end\n"
   ]
  },
  {
   "cell_type": "code",
   "execution_count": 41,
   "metadata": {},
   "outputs": [
    {
     "name": "stdout",
     "output_type": "stream",
     "text": [
      "  43.572 ms (1206527 allocations: 112.76 MiB)\n"
     ]
    },
    {
     "data": {
      "text/plain": [
       "6-element Vector{Float64}:\n",
       " 0.9930430578761247\n",
       " 0.9967041289495905\n",
       " 1.002136198417893\n",
       " 1.0031657341164102\n",
       " 1.0024482725323691\n",
       " 0.9914623118772673"
      ]
     },
     "execution_count": 41,
     "metadata": {},
     "output_type": "execute_result"
    }
   ],
   "source": [
    "Xs = @btime mcmc_par(ϵ, δ, A, b)"
   ]
  },
  {
   "cell_type": "code",
   "execution_count": 42,
   "metadata": {},
   "outputs": [
    {
     "data": {
      "text/plain": [
       "0.040940038307393525"
      ]
     },
     "execution_count": 42,
     "metadata": {},
     "output_type": "execute_result"
    }
   ],
   "source": [
    "norm(b-A*Xs)"
   ]
  },
  {
   "cell_type": "markdown",
   "metadata": {},
   "source": [
    "#### 3. Matriz de probabilidad acumulada pre-build con tipe-anotations"
   ]
  },
  {
   "cell_type": "code",
   "execution_count": 15,
   "metadata": {},
   "outputs": [],
   "source": [
    "S = fill(0, nT)\n",
    "P = fill(0., nT, mT)\n",
    "Pa = P\n",
    "[S[i] += 1 for i in 1:nT, j in 1:mT if T[i,j] != 0]\n",
    "[P[i,j]= 1/S[i] for i in 1:nT, j in 1:mT if T[i,j] != 0 ]\n",
    "Pa = [accumulate(+, P[i, 1:mT]) for i in 1:nT]\n",
    "Pi = [1/nT for i in 1:nT];"
   ]
  },
  {
   "cell_type": "code",
   "execution_count": 31,
   "metadata": {},
   "outputs": [
    {
     "data": {
      "text/plain": [
       "mcmc_acc (generic function with 2 methods)"
      ]
     },
     "execution_count": 31,
     "metadata": {},
     "output_type": "execute_result"
    }
   ],
   "source": [
    "function mcmc_acc(ϵ::Float64, N::Float64)#, Pa::Vector{Vector{Float64}}, T::Matrix{Float64}, P::Matrix{Float64})\n",
    "    Xs = fill(0., mT)\n",
    "    for i in 1:mT\n",
    "        W_0 = 1.0\n",
    "        for s in 1:N\n",
    "            W = W_0;  point = i; X = W_0 * f[i] ::Float64;\n",
    "            while abs(W) >= ϵ\n",
    "                nextpoint = 1::Int64\n",
    "                u = rand() #::Float64\n",
    "                while u >= Pa[point][nextpoint] ::Float64\n",
    "                    nextpoint += 1::Int64\n",
    "                end\n",
    "                if T[point, nextpoint] != 0. \n",
    "                    W_new = W *(T[point, nextpoint]/P[point,nextpoint]) ::Float64\n",
    "                    X += W_new * f[nextpoint] ::Float64\n",
    "                end\n",
    "                point = nextpoint ::Int64\n",
    "                W = W_new ::Float64\n",
    "            end\n",
    "        Xs[i] += X ::Float64\n",
    "        end\n",
    "    end\n",
    "    Xs = Xs/N ::Float64\n",
    "end"
   ]
  },
  {
   "cell_type": "code",
   "execution_count": 35,
   "metadata": {},
   "outputs": [
    {
     "name": "stdout",
     "output_type": "stream",
     "text": [
      "  56.254 ms (2888870 allocations: 44.08 MiB)\n"
     ]
    },
    {
     "data": {
      "text/plain": [
       "6-element Vector{Float64}:\n",
       " 0.9976285827277483\n",
       " 0.9979133631167159\n",
       " 1.0041814033893801\n",
       " 1.0084326757996334\n",
       " 1.001110879981925\n",
       " 1.0039849601513864"
      ]
     },
     "execution_count": 35,
     "metadata": {},
     "output_type": "execute_result"
    }
   ],
   "source": [
    "Xss = @btime mcmc_acc(ϵ, N)#, Pa, T, P)"
   ]
  },
  {
   "cell_type": "code",
   "execution_count": 36,
   "metadata": {},
   "outputs": [
    {
     "data": {
      "text/plain": [
       "0.026461133383401857"
      ]
     },
     "execution_count": 36,
     "metadata": {},
     "output_type": "execute_result"
    }
   ],
   "source": [
    "norm(b-A*Xss)"
   ]
  },
  {
   "cell_type": "markdown",
   "metadata": {},
   "source": [
    "#### 4. Matriz de probabilidad acumulada pre-build con envío de parámetros"
   ]
  },
  {
   "cell_type": "code",
   "execution_count": 37,
   "metadata": {},
   "outputs": [
    {
     "data": {
      "text/plain": [
       "mcmc_acc_par (generic function with 1 method)"
      ]
     },
     "execution_count": 37,
     "metadata": {},
     "output_type": "execute_result"
    }
   ],
   "source": [
    "function mcmc_acc_par(ϵ, δ,A::Matrix{Float64}, b::Vector{Float64})\n",
    "    M = diagm(0 => diag(A))\n",
    "    N = M-A\n",
    "    T = inv(M) * N\n",
    "    f = inv(M) * b\n",
    "    nT, mT = size(T)\n",
    "    S = fill(0, nT)\n",
    "    P = fill(0., nT, mT) \n",
    "    [S[i] += 1 for i in 1:nT, j in 1:mT if T[i,j] != 0]\n",
    "    [P[i,j]= 1/S[i] for i in 1:nT, j in 1:mT if T[i,j] != 0 ]\n",
    "    Pa = [accumulate(+, P[i, 1:mT]) for i in 1:nT]\n",
    "    Pi = [1/nT for i in 1:nT]\n",
    "    Nc = floor((0.6745/δ)^2*((norm(f)^2)/(1-norm(T))^2)) + 1\n",
    "    \n",
    "    Xs = fill(0., mT)\n",
    "    for i in 1:mT\n",
    "        W_0 = 1\n",
    "        for s in 1:Nc\n",
    "            W = W_0; point = i; X = W_0 * f[i]\n",
    "            while abs(W) >= ϵ\n",
    "                nextpoint  = 1\n",
    "                u = rand()\n",
    "                while u >= Pa[point][nextpoint]::Float64\n",
    "                    nextpoint = nextpoint + 1\n",
    "                end\n",
    "                if T[point, nextpoint] != 0 \n",
    "                    W_new = W *(T[point, nextpoint]/P[point, nextpoint])\n",
    "                    X = X + W_new * f[nextpoint]\n",
    "                end\n",
    "                point = nextpoint\n",
    "                W = W_new\n",
    "            end\n",
    "        Xs[i] += X\n",
    "        end\n",
    "    end\n",
    "    Xs = Xs/Nc\n",
    "end"
   ]
  },
  {
   "cell_type": "code",
   "execution_count": 48,
   "metadata": {},
   "outputs": [
    {
     "data": {
      "text/plain": [
       "BenchmarkTools.Trial: 774 samples with 1 evaluation.\n",
       " Range \u001b[90m(\u001b[39m\u001b[36m\u001b[1mmin\u001b[22m\u001b[39m … \u001b[35mmax\u001b[39m\u001b[90m):  \u001b[39m\u001b[36m\u001b[1m6.266 ms\u001b[22m\u001b[39m … \u001b[35m  7.951 ms\u001b[39m  \u001b[90m┊\u001b[39m GC \u001b[90m(\u001b[39mmin … max\u001b[90m): \u001b[39m0.00% … 16.31%\n",
       " Time  \u001b[90m(\u001b[39m\u001b[34m\u001b[1mmedian\u001b[22m\u001b[39m\u001b[90m):     \u001b[39m\u001b[34m\u001b[1m6.379 ms               \u001b[22m\u001b[39m\u001b[90m┊\u001b[39m GC \u001b[90m(\u001b[39mmedian\u001b[90m):    \u001b[39m0.00%\n",
       " Time  \u001b[90m(\u001b[39m\u001b[32m\u001b[1mmean\u001b[22m\u001b[39m ± \u001b[32mσ\u001b[39m\u001b[90m):   \u001b[39m\u001b[32m\u001b[1m6.465 ms\u001b[22m\u001b[39m ± \u001b[32m268.624 μs\u001b[39m  \u001b[90m┊\u001b[39m GC \u001b[90m(\u001b[39mmean ± σ\u001b[90m):  \u001b[39m0.66% ±  2.87%\n",
       "\n",
       "  \u001b[39m \u001b[39m▁\u001b[39m█\u001b[39m▇\u001b[39m█\u001b[34m▆\u001b[39m\u001b[39m \u001b[39m \u001b[32m \u001b[39m\u001b[39m \u001b[39m \u001b[39m \u001b[39m \u001b[39m \u001b[39m \u001b[39m \u001b[39m \u001b[39m \u001b[39m \u001b[39m \u001b[39m \u001b[39m \u001b[39m \u001b[39m \u001b[39m \u001b[39m \u001b[39m \u001b[39m \u001b[39m \u001b[39m \u001b[39m \u001b[39m \u001b[39m \u001b[39m \u001b[39m \u001b[39m \u001b[39m \u001b[39m \u001b[39m \u001b[39m \u001b[39m \u001b[39m \u001b[39m \u001b[39m \u001b[39m \u001b[39m \u001b[39m \u001b[39m \u001b[39m \u001b[39m \u001b[39m \u001b[39m \u001b[39m \u001b[39m \u001b[39m \u001b[39m \u001b[39m \u001b[39m \u001b[39m \u001b[39m \u001b[39m \n",
       "  \u001b[39m█\u001b[39m█\u001b[39m█\u001b[39m█\u001b[39m█\u001b[34m█\u001b[39m\u001b[39m█\u001b[39m▇\u001b[32m▄\u001b[39m\u001b[39m▅\u001b[39m▄\u001b[39m▃\u001b[39m▃\u001b[39m▂\u001b[39m▃\u001b[39m▃\u001b[39m▂\u001b[39m▃\u001b[39m▃\u001b[39m▃\u001b[39m▂\u001b[39m▃\u001b[39m▃\u001b[39m▃\u001b[39m▃\u001b[39m▃\u001b[39m▃\u001b[39m▂\u001b[39m▂\u001b[39m▂\u001b[39m▂\u001b[39m▁\u001b[39m▁\u001b[39m▁\u001b[39m▁\u001b[39m▁\u001b[39m▂\u001b[39m▁\u001b[39m▁\u001b[39m▁\u001b[39m▁\u001b[39m▁\u001b[39m▁\u001b[39m▁\u001b[39m▁\u001b[39m▁\u001b[39m▁\u001b[39m▁\u001b[39m▂\u001b[39m▂\u001b[39m▁\u001b[39m▂\u001b[39m▂\u001b[39m▂\u001b[39m▃\u001b[39m▃\u001b[39m▂\u001b[39m▁\u001b[39m▂\u001b[39m \u001b[39m▃\n",
       "  6.27 ms\u001b[90m         Histogram: frequency by time\u001b[39m        7.68 ms \u001b[0m\u001b[1m<\u001b[22m\n",
       "\n",
       " Memory estimate\u001b[90m: \u001b[39m\u001b[33m1.58 MiB\u001b[39m, allocs estimate\u001b[90m: \u001b[39m\u001b[33m103511\u001b[39m."
      ]
     },
     "execution_count": 48,
     "metadata": {},
     "output_type": "execute_result"
    }
   ],
   "source": [
    "Xss = @benchmark mcmc_acc_par($ϵ, $δ, $A, $b)"
   ]
  },
  {
   "cell_type": "code",
   "execution_count": 49,
   "metadata": {},
   "outputs": [
    {
     "name": "stdout",
     "output_type": "stream",
     "text": [
      "  6.308 ms (103511 allocations: 1.58 MiB)\n"
     ]
    },
    {
     "data": {
      "text/plain": [
       "6-element Vector{Float64}:\n",
       " 0.9992599557621183\n",
       " 1.0014139031384255\n",
       " 1.003400124431952\n",
       " 1.0020231459541769\n",
       " 1.0048446768780825\n",
       " 1.0028706815032549"
      ]
     },
     "execution_count": 49,
     "metadata": {},
     "output_type": "execute_result"
    }
   ],
   "source": [
    "Xs = @btime mcmc_acc_par(ϵ, δ, A, b)"
   ]
  },
  {
   "cell_type": "code",
   "execution_count": 50,
   "metadata": {},
   "outputs": [
    {
     "data": {
      "text/plain": [
       "0.013782102359483073"
      ]
     },
     "execution_count": 50,
     "metadata": {},
     "output_type": "execute_result"
    }
   ],
   "source": [
    "norm(b-A*Xs)"
   ]
  },
  {
   "cell_type": "markdown",
   "metadata": {},
   "source": [
    "#### 5. Matriz de probabilidad acumulada pre-build con envío de parámetros y type-anotations"
   ]
  },
  {
   "cell_type": "code",
   "execution_count": 14,
   "metadata": {},
   "outputs": [
    {
     "data": {
      "text/plain": [
       "mcmc_acc_par_ta (generic function with 1 method)"
      ]
     },
     "execution_count": 14,
     "metadata": {},
     "output_type": "execute_result"
    }
   ],
   "source": [
    "function mcmc_acc_par_ta(ϵ, δ, A::Matrix{Float64}, b::Vector{Float64})\n",
    "    M = diagm(0 => diag(A))\n",
    "    N = M-A\n",
    "    T = inv(M) * N\n",
    "    f = inv(M) * b\n",
    "    nT, mT = size(T)\n",
    "    S = fill(0, nT)\n",
    "    P = fill(0., nT, mT) \n",
    "    [S[i] += 1 for i in 1:nT, j in 1:mT if T[i,j] != 0]\n",
    "    [P[i,j]= 1/S[i] for i in 1:nT, j in 1:mT if T[i,j] != 0 ]\n",
    "    Pa = [accumulate(+, P[i, 1:mT]) for i in 1:nT]\n",
    "    Pi = [1/nT for i in 1:nT]\n",
    "    Nc = floor((0.6745/δ)^2*((norm(f)^2)/(1-norm(T))^2)) + 1\n",
    "    \n",
    "    Xs = fill(0., mT)\n",
    "    for i in 1:mT\n",
    "        W_0 = 1.0\n",
    "        for s in 1:Nc\n",
    "            W = W_0; point = i; X = W_0 * f[i]::Float64\n",
    "            while abs(W) >= ϵ\n",
    "                nextpoint  = 1::Int64\n",
    "                u = rand()\n",
    "                while u >= Pa[point][nextpoint]::Float64\n",
    "                    nextpoint = nextpoint + 1::Int64\n",
    "                end\n",
    "                #if T[point, nextpoint] != 0 \n",
    "                    W_new = W *(T[point, nextpoint]/P[point, nextpoint])::Float64\n",
    "                    X = X + W_new * f[nextpoint]::Float64\n",
    "                #end\n",
    "                point = nextpoint::Int64\n",
    "                W = W_new::Float64\n",
    "            end\n",
    "        Xs[i] += X::Float64\n",
    "        end\n",
    "    end\n",
    "    Xs = Xs/Nc::Float64\n",
    "end"
   ]
  },
  {
   "cell_type": "code",
   "execution_count": 265,
   "metadata": {},
   "outputs": [
    {
     "data": {
      "text/plain": [
       "BenchmarkTools.Trial: 32 samples with 1 evaluation.\n",
       " Range \u001b[90m(\u001b[39m\u001b[36m\u001b[1mmin\u001b[22m\u001b[39m … \u001b[35mmax\u001b[39m\u001b[90m):  \u001b[39m\u001b[36m\u001b[1m157.892 ms\u001b[22m\u001b[39m … \u001b[35m165.860 ms\u001b[39m  \u001b[90m┊\u001b[39m GC \u001b[90m(\u001b[39mmin … max\u001b[90m): \u001b[39m0.00% … 0.00%\n",
       " Time  \u001b[90m(\u001b[39m\u001b[34m\u001b[1mmedian\u001b[22m\u001b[39m\u001b[90m):     \u001b[39m\u001b[34m\u001b[1m158.432 ms               \u001b[22m\u001b[39m\u001b[90m┊\u001b[39m GC \u001b[90m(\u001b[39mmedian\u001b[90m):    \u001b[39m0.00%\n",
       " Time  \u001b[90m(\u001b[39m\u001b[32m\u001b[1mmean\u001b[22m\u001b[39m ± \u001b[32mσ\u001b[39m\u001b[90m):   \u001b[39m\u001b[32m\u001b[1m158.858 ms\u001b[22m\u001b[39m ± \u001b[32m  1.551 ms\u001b[39m  \u001b[90m┊\u001b[39m GC \u001b[90m(\u001b[39mmean ± σ\u001b[90m):  \u001b[39m0.00% ± 0.00%\n",
       "\n",
       "  \u001b[39m▂\u001b[39m▂\u001b[39m█\u001b[39m▅\u001b[34m█\u001b[39m\u001b[39m \u001b[39m▂\u001b[32m \u001b[39m\u001b[39m \u001b[39m \u001b[39m \u001b[39m \u001b[39m▂\u001b[39m \u001b[39m \u001b[39m \u001b[39m \u001b[39m \u001b[39m \u001b[39m \u001b[39m \u001b[39m \u001b[39m \u001b[39m \u001b[39m \u001b[39m \u001b[39m \u001b[39m \u001b[39m \u001b[39m \u001b[39m \u001b[39m \u001b[39m \u001b[39m \u001b[39m \u001b[39m \u001b[39m \u001b[39m \u001b[39m \u001b[39m \u001b[39m \u001b[39m \u001b[39m \u001b[39m \u001b[39m \u001b[39m \u001b[39m \u001b[39m \u001b[39m \u001b[39m \u001b[39m \u001b[39m \u001b[39m \u001b[39m \u001b[39m \u001b[39m \u001b[39m \u001b[39m \u001b[39m \u001b[39m \u001b[39m \u001b[39m \u001b[39m \n",
       "  \u001b[39m█\u001b[39m█\u001b[39m█\u001b[39m█\u001b[34m█\u001b[39m\u001b[39m▅\u001b[39m█\u001b[32m█\u001b[39m\u001b[39m▅\u001b[39m▁\u001b[39m▁\u001b[39m▁\u001b[39m█\u001b[39m▁\u001b[39m▁\u001b[39m▁\u001b[39m▁\u001b[39m▁\u001b[39m▁\u001b[39m▁\u001b[39m▁\u001b[39m▁\u001b[39m▁\u001b[39m▁\u001b[39m▁\u001b[39m▁\u001b[39m▁\u001b[39m▁\u001b[39m▁\u001b[39m▁\u001b[39m▁\u001b[39m▁\u001b[39m▁\u001b[39m▁\u001b[39m▁\u001b[39m▁\u001b[39m▁\u001b[39m▅\u001b[39m▁\u001b[39m▁\u001b[39m▁\u001b[39m▁\u001b[39m▁\u001b[39m▁\u001b[39m▁\u001b[39m▁\u001b[39m▁\u001b[39m▁\u001b[39m▁\u001b[39m▁\u001b[39m▁\u001b[39m▁\u001b[39m▁\u001b[39m▁\u001b[39m▁\u001b[39m▁\u001b[39m▁\u001b[39m▁\u001b[39m▁\u001b[39m▁\u001b[39m▅\u001b[39m \u001b[39m▁\n",
       "  158 ms\u001b[90m           Histogram: frequency by time\u001b[39m          166 ms \u001b[0m\u001b[1m<\u001b[22m\n",
       "\n",
       " Memory estimate\u001b[90m: \u001b[39m\u001b[33m3.42 KiB\u001b[39m, allocs estimate\u001b[90m: \u001b[39m\u001b[33m29\u001b[39m."
      ]
     },
     "execution_count": 265,
     "metadata": {},
     "output_type": "execute_result"
    }
   ],
   "source": [
    "@benchmark mcmc_acc_par_ta($ϵ, $δ, $A, $b)"
   ]
  },
  {
   "cell_type": "code",
   "execution_count": 15,
   "metadata": {},
   "outputs": [
    {
     "name": "stdout",
     "output_type": "stream",
     "text": [
      "  87.516 s (35 allocations: 5.38 KiB)\n"
     ]
    },
    {
     "data": {
      "text/plain": [
       "6-element Vector{Float64}:\n",
       " 0.9995054332407478\n",
       " 0.9995512234417253\n",
       " 0.9995781292346542\n",
       " 0.9995303576682325\n",
       " 0.9995834119801632\n",
       " 0.9994322363788645"
      ]
     },
     "execution_count": 15,
     "metadata": {},
     "output_type": "execute_result"
    }
   ],
   "source": [
    "Xs = @btime mcmc_acc_par_ta($ϵ, $δ, $A, $b)"
   ]
  },
  {
   "cell_type": "code",
   "execution_count": 267,
   "metadata": {},
   "outputs": [
    {
     "data": {
      "text/plain": [
       "0.006474291327655465"
      ]
     },
     "execution_count": 267,
     "metadata": {},
     "output_type": "execute_result"
    }
   ],
   "source": [
    "norm(b-A*Xs)"
   ]
  },
  {
   "cell_type": "code",
   "execution_count": 293,
   "metadata": {},
   "outputs": [
    {
     "data": {
      "text/plain": [
       "(0.01, 0.01, [0.0 1.0 … 0.0 -0.5; 1.0 0.0 … -0.5 0.0; … ; 0.0 -0.5 … 0.0 1.0; -0.5 0.0 … 1.0 0.0])"
      ]
     },
     "execution_count": 293,
     "metadata": {},
     "output_type": "execute_result"
    }
   ],
   "source": [
    "(ϵ, δ, N)"
   ]
  },
  {
   "cell_type": "code",
   "execution_count": 155,
   "metadata": {},
   "outputs": [
    {
     "data": {
      "text/plain": [
       "200-element Vector{Float64}:\n",
       " 0.9916363812390255\n",
       " 0.9932505612821206\n",
       " 0.9983654530849273\n",
       " 1.0174054530840702\n",
       " 1.0096050161513457\n",
       " 1.0096200840787803\n",
       " 0.9943622925615528\n",
       " 1.0009506519941367\n",
       " 0.9850374778360632\n",
       " 1.0007186420233842\n",
       " 0.997543250875461\n",
       " 1.0083439198872965\n",
       " 0.9828553792333904\n",
       " ⋮\n",
       " 1.000376281843737\n",
       " 1.0003738058995344\n",
       " 1.0019009922287392\n",
       " 1.0024504811022394\n",
       " 0.9972630129212434\n",
       " 0.9935221641798869\n",
       " 0.9830214135255453\n",
       " 0.9895556490651574\n",
       " 1.0030926748168134\n",
       " 1.0060849700757446\n",
       " 1.0064754554819617\n",
       " 0.9940650144498916"
      ]
     },
     "execution_count": 155,
     "metadata": {},
     "output_type": "execute_result"
    }
   ],
   "source": [
    "Xs"
   ]
  },
  {
   "cell_type": "code",
   "execution_count": 268,
   "metadata": {},
   "outputs": [
    {
     "data": {
      "text/plain": [
       "1"
      ]
     },
     "execution_count": 268,
     "metadata": {},
     "output_type": "execute_result"
    }
   ],
   "source": [
    "Threads.nthreads()"
   ]
  },
  {
   "cell_type": "code",
   "execution_count": null,
   "metadata": {},
   "outputs": [],
   "source": []
  }
 ],
 "metadata": {
  "@webio": {
   "lastCommId": null,
   "lastKernelId": null
  },
  "kernelspec": {
   "display_name": "Julia 1.6.2",
   "language": "julia",
   "name": "julia-1.6"
  },
  "language_info": {
   "file_extension": ".jl",
   "mimetype": "application/julia",
   "name": "julia",
   "version": "1.6.2"
  }
 },
 "nbformat": 4,
 "nbformat_minor": 2
}
