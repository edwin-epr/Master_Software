{
 "cells": [
  {
   "cell_type": "code",
   "execution_count": 2,
   "metadata": {},
   "outputs": [],
   "source": [
    "using LinearAlgebra\n",
    "using SparseArrays\n",
    "using CUDA, CUDA.CUBLAS, CUDA.CUSOLVER, CUDA.CUSPARSE"
   ]
  },
  {
   "cell_type": "code",
   "execution_count": null,
   "metadata": {},
   "outputs": [],
   "source": [
    "A = Matrix{Float64}(undef, N, N)\n",
    "b = Vector{Float64}(undef, N)\n",
    "\n",
    "d_A = CuSparseMatrixCSC{Float64}(A)\n",
    "d_b = CuArray{Float64}(b)"
   ]
  },
  {
   "cell_type": "code",
   "execution_count": null,
   "metadata": {},
   "outputs": [],
   "source": [
    "A = Matrix{Float64}(undef, 128, 128)        # Almacenado en CPU\n",
    "\n",
    "d_A = CuMatrix{Float64}(undef, 128, 128)    # Almacenado en la GPU"
   ]
  },
  {
   "cell_type": "code",
   "execution_count": 4,
   "metadata": {},
   "outputs": [
    {
     "ename": "UndefVarError",
     "evalue": "UndefVarError: `rellenar_matriz` not defined",
     "output_type": "error",
     "traceback": [
      "UndefVarError: `rellenar_matriz` not defined\n",
      "\n",
      "Stacktrace:\n",
      " [1] top-level scope\n",
      "   @ ~/Documents/WorkSpaces/pesadilla/parallel.ipynb:2"
     ]
    }
   ],
   "source": [
    "A = Matrix{Float64}(undef, 128, 128)    # Almacenado en CPU\n",
    "\n",
    "A = inicializar_matriz()                # Rellenamos la matriz con valores        \n",
    "\n",
    "d_A = CuMatrix{Float64}(A)              # Almacenado en la GPU"
   ]
  },
  {
   "cell_type": "code",
   "execution_count": null,
   "metadata": {},
   "outputs": [],
   "source": [
    "d_A = CuMatrix{Float64}(undef, 128, 128)    # Asignamos memoria en la GPU\n",
    "\n",
    "d_A = inicializar_matriz()                  # Llenamos la matriz en la GPU\n",
    "\n",
    "A = Matrix{Float64}(d_A)                    # Asignamos memoria en la CPU y copiamos los valres desde la GPU."
   ]
  },
  {
   "cell_type": "code",
   "execution_count": null,
   "metadata": {},
   "outputs": [],
   "source": [
    "d_A = CuMatrix{Float64}(undef, 128, 128)    # Asignamos memoria en la GPU\n",
    "d_b = CuVector{Float64}(undef, 128)         # Asignamos memoria en la GPU\n",
    "\n",
    "d_A = inicializar_matriz()                  # Llenamos la matriz en la GPU\n",
    "d_b = inicializar_vector()                  # Llenamos la vector en la GPU\n",
    "\n",
    "d_C = d_A * d_b                             # Multiplicación matriz-vector\n",
    "                                            # El resultado se guarda en la GPU"
   ]
  },
  {
   "cell_type": "code",
   "execution_count": null,
   "metadata": {},
   "outputs": [],
   "source": [
    "function parallelsor(A::Matrix{Float64}, b::Vector{Float64}, ω = 1.2, ϵ = 1e-5)\n",
    "    D = Diagonal(A)\n",
    "    U = - triu(A,1)\n",
    "    L = - tril(A,-1)\n",
    "\n",
    "    DL = D-ω*L\n",
    "    UD = ω*U+(1.0-ω)*D\n",
    "    f = ω*b\n",
    "\n",
    "    d_UD = CuSparseMatrixCSC{Float64}(UD)   # Tipo de dato CuSparseMatrixCSC\n",
    "    d_f = CuVector{Float64}(f)\n",
    "\n",
    "    d_A = CuSparseMatrixCSC{Float64}(A)\n",
    "    d_b = CuVector{Float64}(b)\n",
    "    d_x = CUDA.zeros(Float64, size(b))  # Asigna  memoria a una matriz y la inicializa con ceros\n",
    "\n",
    "    while CUBLAS.norm(d_A*d_x - d_b) > ϵ    # Calcula la norma de un vector en la GPU\n",
    "        g = Vector(d_UD*d_x + d_f)\n",
    "        d_x = CuVector{Float64}(DL \\ g)\n",
    "    end\n",
    "    return x = Vector(d_x)  # Solución aproximada\n",
    "end"
   ]
  }
 ],
 "metadata": {
  "kernelspec": {
   "display_name": "Julia 1.10.3",
   "language": "julia",
   "name": "julia-1.10"
  },
  "language_info": {
   "file_extension": ".jl",
   "mimetype": "application/julia",
   "name": "julia",
   "version": "1.10.3"
  }
 },
 "nbformat": 4,
 "nbformat_minor": 2
}
